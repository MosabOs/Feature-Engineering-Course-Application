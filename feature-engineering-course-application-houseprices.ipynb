{
 "cells": [
  {
   "cell_type": "markdown",
   "id": "c2edd13f",
   "metadata": {
    "papermill": {
     "duration": 0.011062,
     "end_time": "2025-04-18T16:10:21.719282",
     "exception": false,
     "start_time": "2025-04-18T16:10:21.708220",
     "status": "completed"
    },
    "tags": []
   },
   "source": [
    "# Step 1 - Preliminaries"
   ]
  },
  {
   "cell_type": "code",
   "execution_count": 1,
   "id": "81ab783f",
   "metadata": {
    "_cell_guid": "b1076dfc-b9ad-4769-8c92-a6c4dae69d19",
    "_uuid": "8f2839f25d086af736a60e9eeb907d3b93b6e0e5",
    "execution": {
     "iopub.execute_input": "2025-04-18T16:10:21.742502Z",
     "iopub.status.busy": "2025-04-18T16:10:21.741998Z",
     "iopub.status.idle": "2025-04-18T16:10:26.266819Z",
     "shell.execute_reply": "2025-04-18T16:10:26.265411Z"
    },
    "papermill": {
     "duration": 4.53979,
     "end_time": "2025-04-18T16:10:26.269198",
     "exception": false,
     "start_time": "2025-04-18T16:10:21.729408",
     "status": "completed"
    },
    "tags": []
   },
   "outputs": [
    {
     "name": "stderr",
     "output_type": "stream",
     "text": [
      "/tmp/ipykernel_17/1545505161.py:20: MatplotlibDeprecationWarning: The seaborn styles shipped by Matplotlib are deprecated since 3.6, as they no longer correspond to the styles shipped by seaborn. However, they will remain available as 'seaborn-v0_8-<style>'. Alternatively, directly use the seaborn API instead.\n",
      "  plt.style.use(\"seaborn-whitegrid\")\n"
     ]
    }
   ],
   "source": [
    "import os\n",
    "import warnings \n",
    "from pathlib import Path\n",
    "\n",
    "import matplotlib.pyplot as plt\n",
    "import numpy as np \n",
    "import pandas as pd\n",
    "import seaborn as sns\n",
    "from IPython.display import display\n",
    "from pandas.api.types import CategoricalDtype\n",
    "\n",
    "from category_encoders import MEstimateEncoder\n",
    "from sklearn.cluster import KMeans\n",
    "from sklearn.decomposition import PCA \n",
    "from sklearn.feature_selection import mutual_info_regression\n",
    "from sklearn.model_selection import KFold , cross_val_score\n",
    "from xgboost import XGBRegressor\n",
    "\n",
    "# Set Matplotlib defaults\n",
    "plt.style.use(\"seaborn-whitegrid\")\n",
    "plt.rc(\"figure\", autolayout=True)\n",
    "plt.rc(\n",
    "    \"axes\",\n",
    "    labelweight=\"bold\",\n",
    "    labelsize=\"large\",\n",
    "    titleweight=\"bold\",\n",
    "    titlesize=14,\n",
    "    titlepad=10,\n",
    ")\n",
    "\n",
    "# Mute warnings\n",
    "warnings.filterwarnings('ignore')"
   ]
  },
  {
   "cell_type": "markdown",
   "id": "f6a8be66",
   "metadata": {
    "papermill": {
     "duration": 0.009413,
     "end_time": "2025-04-18T16:10:26.288374",
     "exception": false,
     "start_time": "2025-04-18T16:10:26.278961",
     "status": "completed"
    },
    "tags": []
   },
   "source": [
    "# Data Preprocessing\n",
    "For this comp we need to:\n",
    "- **Load** the data from CSV files\n",
    "- **Clean** the data to fix any errors or inconsistencies\n",
    "- **Encode** the statistical data type (numeric, categorical)\n",
    "- **Impute** any missing values"
   ]
  },
  {
   "cell_type": "code",
   "execution_count": 2,
   "id": "aeb0b805",
   "metadata": {
    "execution": {
     "iopub.execute_input": "2025-04-18T16:10:26.312476Z",
     "iopub.status.busy": "2025-04-18T16:10:26.311922Z",
     "iopub.status.idle": "2025-04-18T16:10:26.318820Z",
     "shell.execute_reply": "2025-04-18T16:10:26.317660Z"
    },
    "papermill": {
     "duration": 0.022642,
     "end_time": "2025-04-18T16:10:26.321200",
     "exception": false,
     "start_time": "2025-04-18T16:10:26.298558",
     "status": "completed"
    },
    "tags": []
   },
   "outputs": [],
   "source": [
    "def load_data():\n",
    "    # Read data\n",
    "    data_dir = Path(\"../input/house-prices-advanced-regression-techniques/\")\n",
    "    df_train = pd.read_csv(data_dir / \"train.csv\" , index_col=\"Id\")\n",
    "    df_test = pd.read_csv(data_dir / \"test.csv\" , index_col=\"Id\")\n",
    "    # Merge the splits so we can procces them together \n",
    "    df = pd.concat([df_train , df_test])\n",
    "    # PREPROCESSING\n",
    "    df = clean(df)\n",
    "    df = encode(df)\n",
    "    df = impute(df)\n",
    "    # Reform splits\n",
    "    df_train = df.loc[df_train.index , :]\n",
    "    df_test = df.loc[df_test.index , :]\n",
    "    return df_train , df_test\n",
    "    "
   ]
  },
  {
   "cell_type": "markdown",
   "id": "d1a9179b",
   "metadata": {
    "papermill": {
     "duration": 0.009632,
     "end_time": "2025-04-18T16:10:26.340676",
     "exception": false,
     "start_time": "2025-04-18T16:10:26.331044",
     "status": "completed"
    },
    "tags": []
   },
   "source": [
    "# Clean Data\n",
    "Some of the categorical features in this dataset have what are apparently typos in their categories:"
   ]
  },
  {
   "cell_type": "code",
   "execution_count": 3,
   "id": "df78e2e1",
   "metadata": {
    "execution": {
     "iopub.execute_input": "2025-04-18T16:10:26.363398Z",
     "iopub.status.busy": "2025-04-18T16:10:26.363008Z",
     "iopub.status.idle": "2025-04-18T16:10:26.430141Z",
     "shell.execute_reply": "2025-04-18T16:10:26.428845Z"
    },
    "papermill": {
     "duration": 0.081286,
     "end_time": "2025-04-18T16:10:26.432659",
     "exception": false,
     "start_time": "2025-04-18T16:10:26.351373",
     "status": "completed"
    },
    "tags": []
   },
   "outputs": [
    {
     "data": {
      "text/plain": [
       "array(['VinylSd', 'MetalSd', 'Wd Shng', 'HdBoard', 'Plywood', 'Wd Sdng',\n",
       "       'CmentBd', 'BrkFace', 'Stucco', 'AsbShng', 'Brk Cmn', 'ImStucc',\n",
       "       'AsphShn', 'Stone', 'Other', 'CBlock'], dtype=object)"
      ]
     },
     "execution_count": 3,
     "metadata": {},
     "output_type": "execute_result"
    }
   ],
   "source": [
    "data_dir = Path(\"../input/house-prices-advanced-regression-techniques/\")\n",
    "df = pd.read_csv(data_dir / \"train.csv\", index_col = \"Id\")\n",
    "\n",
    "df.Exterior2nd.unique()"
   ]
  },
  {
   "cell_type": "code",
   "execution_count": 4,
   "id": "3e710cc5",
   "metadata": {
    "execution": {
     "iopub.execute_input": "2025-04-18T16:10:26.455302Z",
     "iopub.status.busy": "2025-04-18T16:10:26.454910Z",
     "iopub.status.idle": "2025-04-18T16:10:26.461334Z",
     "shell.execute_reply": "2025-04-18T16:10:26.459989Z"
    },
    "papermill": {
     "duration": 0.020612,
     "end_time": "2025-04-18T16:10:26.463670",
     "exception": false,
     "start_time": "2025-04-18T16:10:26.443058",
     "status": "completed"
    },
    "tags": []
   },
   "outputs": [],
   "source": [
    "def clean(df):\n",
    "    df[\"Exterior2nd\"] = df[\"Exterior2nd\"].replace({\"Bkr Cmn\":\"BrkComn\"})\n",
    "    # Some Values Of GarageYrBlt are corrupt , so we'll replace them\n",
    "    # with the year the house was built\n",
    "    df[\"GarageYrBlt\"] = df[\"GarageYrBlt\"].where(df.GarageYrBlt <= 2010, df.YearBuilt)\n",
    "    # Names Beginning with numbers are awkward to work with\n",
    "    df.rename(columns={\n",
    "        \"1stFlrSF\": \"FirstFlrSF\",\n",
    "        \"2ndFlrSF\": \"SecondFlrSF\",\n",
    "        \"3SsnPorch\": \"Threeseasonporch\",\n",
    "    },inplace =True,\n",
    "    )\n",
    "    return df"
   ]
  },
  {
   "cell_type": "markdown",
   "id": "9910a80d",
   "metadata": {
    "papermill": {
     "duration": 0.009336,
     "end_time": "2025-04-18T16:10:26.484377",
     "exception": false,
     "start_time": "2025-04-18T16:10:26.475041",
     "status": "completed"
    },
    "tags": []
   },
   "source": [
    "# Encode the Statistical Data Type"
   ]
  },
  {
   "cell_type": "code",
   "execution_count": 5,
   "id": "e171b6b9",
   "metadata": {
    "execution": {
     "iopub.execute_input": "2025-04-18T16:10:26.506436Z",
     "iopub.status.busy": "2025-04-18T16:10:26.506047Z",
     "iopub.status.idle": "2025-04-18T16:10:26.513442Z",
     "shell.execute_reply": "2025-04-18T16:10:26.512293Z"
    },
    "papermill": {
     "duration": 0.021613,
     "end_time": "2025-04-18T16:10:26.515666",
     "exception": false,
     "start_time": "2025-04-18T16:10:26.494053",
     "status": "completed"
    },
    "tags": []
   },
   "outputs": [
    {
     "name": "stdout",
     "output_type": "stream",
     "text": [
      "['MSZoning', 'Street', 'Alley', 'LotShape', 'LandContour', 'Utilities', 'LotConfig', 'LandSlope', 'Neighborhood', 'Condition1', 'Condition2', 'BldgType', 'HouseStyle', 'RoofStyle', 'RoofMatl', 'Exterior1st', 'Exterior2nd', 'MasVnrType', 'ExterQual', 'ExterCond', 'Foundation', 'BsmtQual', 'BsmtCond', 'BsmtExposure', 'BsmtFinType1', 'BsmtFinType2', 'Heating', 'HeatingQC', 'CentralAir', 'Electrical', 'KitchenQual', 'Functional', 'FireplaceQu', 'GarageType', 'GarageFinish', 'GarageQual', 'GarageCond', 'PavedDrive', 'PoolQC', 'Fence', 'MiscFeature', 'SaleType', 'SaleCondition']\n"
     ]
    }
   ],
   "source": [
    "categorical_feature = df.select_dtypes(include=[\"object\",\"category\"]).columns.tolist()\n",
    "print(categorical_feature)"
   ]
  },
  {
   "cell_type": "code",
   "execution_count": 6,
   "id": "d4dd1367",
   "metadata": {
    "execution": {
     "iopub.execute_input": "2025-04-18T16:10:26.538798Z",
     "iopub.status.busy": "2025-04-18T16:10:26.537638Z",
     "iopub.status.idle": "2025-04-18T16:10:26.550023Z",
     "shell.execute_reply": "2025-04-18T16:10:26.548294Z"
    },
    "papermill": {
     "duration": 0.026821,
     "end_time": "2025-04-18T16:10:26.552584",
     "exception": false,
     "start_time": "2025-04-18T16:10:26.525763",
     "status": "completed"
    },
    "tags": []
   },
   "outputs": [],
   "source": [
    "# The numeric features are already encoded correctly (`float` for\n",
    "# continuous, `int` for discrete), but the categoricals we'll need to\n",
    "# do ourselves. Note in particular, that the `MSSubClass` feature is\n",
    "# read as an `int` type, but is actually a (nominative) categorical.\n",
    "\n",
    "# The nominative (unordered) categorical features\n",
    "features_nom = [\"MSSubClass\", \"MSZoning\", \"Street\", \"Alley\", \"LandContour\", \"LotConfig\", \"Neighborhood\", \"Condition1\", \"Condition2\", \"BldgType\", \"HouseStyle\", \"RoofStyle\", \"RoofMatl\", \"Exterior1st\", \"Exterior2nd\", \"MasVnrType\", \"Foundation\", \"Heating\", \"CentralAir\", \"GarageType\", \"MiscFeature\", \"SaleType\", \"SaleCondition\"]\n",
    "\n",
    "\n",
    "\n",
    "# The Ordinal (ordered) categorical Features\n",
    "\n",
    "# Pandas calls the categories \"Levels\"\n",
    "five_levels = [\"Po\", \"Fa\",\"TA\", \"Gd\", \"Ex\"]\n",
    "ten_levels = list(range(10))\n",
    "\n",
    "ordered_levels = {\n",
    "    \"OverallQual\": ten_levels,\n",
    "    \"OverallCond\": ten_levels,\n",
    "    \"ExterQual\": five_levels,\n",
    "    \"ExterCond\": five_levels,\n",
    "    \"BsmtQual\": five_levels,\n",
    "    \"BsmtCond\": five_levels,\n",
    "    \"HeatingQC\": five_levels,\n",
    "    \"KitchenQual\": five_levels,\n",
    "    \"FireplaceQu\": five_levels,\n",
    "    \"GarageQual\": five_levels,\n",
    "    \"GarageCond\": five_levels,\n",
    "    \"PoolQC\": five_levels,\n",
    "    \"LotShape\": [\"Reg\", \"IR1\", \"IR2\", \"IR3\"],\n",
    "    \"LandSlope\": [\"Sev\", \"Mod\", \"Gtl\"],\n",
    "    \"BsmtExposure\": [\"No\", \"Mn\", \"Av\", \"Gd\"],\n",
    "    \"BsmtFinType1\": [\"Unf\", \"LwQ\", \"Rec\", \"BLQ\", \"ALQ\", \"GLQ\"],\n",
    "    \"BsmtFinType2\": [\"Unf\", \"LwQ\", \"Rec\", \"BLQ\", \"ALQ\", \"GLQ\"],\n",
    "    \"Functional\": [\"Sal\", \"Sev\", \"Maj1\", \"Maj2\", \"Mod\", \"Min2\", \"Min1\", \"Typ\"],\n",
    "    \"GarageFinish\": [\"Unf\", \"RFn\", \"Fin\"],\n",
    "    \"PavedDrive\": [\"N\", \"P\", \"Y\"],\n",
    "    \"Utilities\": [\"NoSeWa\", \"NoSewr\", \"AllPub\"],\n",
    "    \"CentralAir\": [\"N\", \"Y\"],\n",
    "    \"Electrical\": [\"Mix\", \"FuseP\", \"FuseF\", \"FuseA\", \"SBrkr\"],\n",
    "    \"Fence\": [\"MnWw\", \"GdWo\", \"MnPrv\", \"GdPrv\"],\n",
    "}\n",
    "\n",
    "# Add a None Level For Missing Values\n",
    "ordered_levels = {key: [\"None\"] + value for key, value in\n",
    "                 ordered_levels.items()}\n",
    "\n",
    "def encode(df):\n",
    "    # Nominal categories\n",
    "    for name in features_nom:\n",
    "        df[name] = df[name].astype(\"category\")\n",
    "        # Add a None category for missing values\n",
    "        if \"None\" not in df[name].cat.categories:\n",
    "            df[name] = df[name].cat.add_categories(\"None\")\n",
    "    # Ordinal categroies\n",
    "    for name , levels in ordered_levels.items():\n",
    "        df[name] = df[name].astype(CategoricalDtype(levels,\n",
    "                                                   ordered=True))\n",
    "    return df\n",
    "            "
   ]
  },
  {
   "cell_type": "markdown",
   "id": "a6d16488",
   "metadata": {
    "papermill": {
     "duration": 0.010197,
     "end_time": "2025-04-18T16:10:26.572475",
     "exception": false,
     "start_time": "2025-04-18T16:10:26.562278",
     "status": "completed"
    },
    "tags": []
   },
   "source": [
    "# Handle Missing Values \n",
    "We'll impute 0 for missing numeric values and \"None\" for missing categorical values"
   ]
  },
  {
   "cell_type": "code",
   "execution_count": 7,
   "id": "e6d794a4",
   "metadata": {
    "execution": {
     "iopub.execute_input": "2025-04-18T16:10:26.594287Z",
     "iopub.status.busy": "2025-04-18T16:10:26.593906Z",
     "iopub.status.idle": "2025-04-18T16:10:26.600206Z",
     "shell.execute_reply": "2025-04-18T16:10:26.598987Z"
    },
    "papermill": {
     "duration": 0.020534,
     "end_time": "2025-04-18T16:10:26.602693",
     "exception": false,
     "start_time": "2025-04-18T16:10:26.582159",
     "status": "completed"
    },
    "tags": []
   },
   "outputs": [],
   "source": [
    "def impute(df):\n",
    "    for name in df.select_dtypes(\"number\"):\n",
    "        df[name] = df[name].fillna(0)\n",
    "    for name in df.select_dtypes(\"category\"):\n",
    "        df[name] = df[name].fillna(\"None\")\n",
    "    return df\n",
    "    "
   ]
  },
  {
   "cell_type": "markdown",
   "id": "3b4ed3f1",
   "metadata": {
    "papermill": {
     "duration": 0.010789,
     "end_time": "2025-04-18T16:10:26.623930",
     "exception": false,
     "start_time": "2025-04-18T16:10:26.613141",
     "status": "completed"
    },
    "tags": []
   },
   "source": [
    "# Load Data\n",
    "And now we can call the data loader and get the processed data splits:"
   ]
  },
  {
   "cell_type": "code",
   "execution_count": 8,
   "id": "8a5feaa5",
   "metadata": {
    "execution": {
     "iopub.execute_input": "2025-04-18T16:10:26.647588Z",
     "iopub.status.busy": "2025-04-18T16:10:26.646426Z",
     "iopub.status.idle": "2025-04-18T16:10:26.783608Z",
     "shell.execute_reply": "2025-04-18T16:10:26.782353Z"
    },
    "papermill": {
     "duration": 0.152049,
     "end_time": "2025-04-18T16:10:26.786077",
     "exception": false,
     "start_time": "2025-04-18T16:10:26.634028",
     "status": "completed"
    },
    "tags": []
   },
   "outputs": [],
   "source": [
    "df_train , df_test = load_data()"
   ]
  },
  {
   "cell_type": "markdown",
   "id": "d537336e",
   "metadata": {
    "papermill": {
     "duration": 0.010847,
     "end_time": "2025-04-18T16:10:26.807876",
     "exception": false,
     "start_time": "2025-04-18T16:10:26.797029",
     "status": "completed"
    },
    "tags": []
   },
   "source": [
    " Notice that df_test is missing values for SalePrice. (NAs were willed with 0's in the imputation step.)\n",
    " "
   ]
  },
  {
   "cell_type": "code",
   "execution_count": 9,
   "id": "437ae7b0",
   "metadata": {
    "execution": {
     "iopub.execute_input": "2025-04-18T16:10:26.828588Z",
     "iopub.status.busy": "2025-04-18T16:10:26.828223Z",
     "iopub.status.idle": "2025-04-18T16:10:26.954066Z",
     "shell.execute_reply": "2025-04-18T16:10:26.952729Z"
    },
    "papermill": {
     "duration": 0.138959,
     "end_time": "2025-04-18T16:10:26.956309",
     "exception": false,
     "start_time": "2025-04-18T16:10:26.817350",
     "status": "completed"
    },
    "tags": []
   },
   "outputs": [
    {
     "data": {
      "text/html": [
       "<div>\n",
       "<style scoped>\n",
       "    .dataframe tbody tr th:only-of-type {\n",
       "        vertical-align: middle;\n",
       "    }\n",
       "\n",
       "    .dataframe tbody tr th {\n",
       "        vertical-align: top;\n",
       "    }\n",
       "\n",
       "    .dataframe thead th {\n",
       "        text-align: right;\n",
       "    }\n",
       "</style>\n",
       "<table border=\"1\" class=\"dataframe\">\n",
       "  <thead>\n",
       "    <tr style=\"text-align: right;\">\n",
       "      <th></th>\n",
       "      <th>MSSubClass</th>\n",
       "      <th>MSZoning</th>\n",
       "      <th>LotFrontage</th>\n",
       "      <th>LotArea</th>\n",
       "      <th>Street</th>\n",
       "      <th>Alley</th>\n",
       "      <th>LotShape</th>\n",
       "      <th>LandContour</th>\n",
       "      <th>Utilities</th>\n",
       "      <th>LotConfig</th>\n",
       "      <th>...</th>\n",
       "      <th>PoolArea</th>\n",
       "      <th>PoolQC</th>\n",
       "      <th>Fence</th>\n",
       "      <th>MiscFeature</th>\n",
       "      <th>MiscVal</th>\n",
       "      <th>MoSold</th>\n",
       "      <th>YrSold</th>\n",
       "      <th>SaleType</th>\n",
       "      <th>SaleCondition</th>\n",
       "      <th>SalePrice</th>\n",
       "    </tr>\n",
       "    <tr>\n",
       "      <th>Id</th>\n",
       "      <th></th>\n",
       "      <th></th>\n",
       "      <th></th>\n",
       "      <th></th>\n",
       "      <th></th>\n",
       "      <th></th>\n",
       "      <th></th>\n",
       "      <th></th>\n",
       "      <th></th>\n",
       "      <th></th>\n",
       "      <th></th>\n",
       "      <th></th>\n",
       "      <th></th>\n",
       "      <th></th>\n",
       "      <th></th>\n",
       "      <th></th>\n",
       "      <th></th>\n",
       "      <th></th>\n",
       "      <th></th>\n",
       "      <th></th>\n",
       "      <th></th>\n",
       "    </tr>\n",
       "  </thead>\n",
       "  <tbody>\n",
       "    <tr>\n",
       "      <th>1</th>\n",
       "      <td>60</td>\n",
       "      <td>RL</td>\n",
       "      <td>65.0</td>\n",
       "      <td>8450</td>\n",
       "      <td>Pave</td>\n",
       "      <td>None</td>\n",
       "      <td>Reg</td>\n",
       "      <td>Lvl</td>\n",
       "      <td>AllPub</td>\n",
       "      <td>Inside</td>\n",
       "      <td>...</td>\n",
       "      <td>0</td>\n",
       "      <td>None</td>\n",
       "      <td>None</td>\n",
       "      <td>None</td>\n",
       "      <td>0</td>\n",
       "      <td>2</td>\n",
       "      <td>2008</td>\n",
       "      <td>WD</td>\n",
       "      <td>Normal</td>\n",
       "      <td>208500.0</td>\n",
       "    </tr>\n",
       "    <tr>\n",
       "      <th>2</th>\n",
       "      <td>20</td>\n",
       "      <td>RL</td>\n",
       "      <td>80.0</td>\n",
       "      <td>9600</td>\n",
       "      <td>Pave</td>\n",
       "      <td>None</td>\n",
       "      <td>Reg</td>\n",
       "      <td>Lvl</td>\n",
       "      <td>AllPub</td>\n",
       "      <td>FR2</td>\n",
       "      <td>...</td>\n",
       "      <td>0</td>\n",
       "      <td>None</td>\n",
       "      <td>None</td>\n",
       "      <td>None</td>\n",
       "      <td>0</td>\n",
       "      <td>5</td>\n",
       "      <td>2007</td>\n",
       "      <td>WD</td>\n",
       "      <td>Normal</td>\n",
       "      <td>181500.0</td>\n",
       "    </tr>\n",
       "    <tr>\n",
       "      <th>3</th>\n",
       "      <td>60</td>\n",
       "      <td>RL</td>\n",
       "      <td>68.0</td>\n",
       "      <td>11250</td>\n",
       "      <td>Pave</td>\n",
       "      <td>None</td>\n",
       "      <td>IR1</td>\n",
       "      <td>Lvl</td>\n",
       "      <td>AllPub</td>\n",
       "      <td>Inside</td>\n",
       "      <td>...</td>\n",
       "      <td>0</td>\n",
       "      <td>None</td>\n",
       "      <td>None</td>\n",
       "      <td>None</td>\n",
       "      <td>0</td>\n",
       "      <td>9</td>\n",
       "      <td>2008</td>\n",
       "      <td>WD</td>\n",
       "      <td>Normal</td>\n",
       "      <td>223500.0</td>\n",
       "    </tr>\n",
       "    <tr>\n",
       "      <th>4</th>\n",
       "      <td>70</td>\n",
       "      <td>RL</td>\n",
       "      <td>60.0</td>\n",
       "      <td>9550</td>\n",
       "      <td>Pave</td>\n",
       "      <td>None</td>\n",
       "      <td>IR1</td>\n",
       "      <td>Lvl</td>\n",
       "      <td>AllPub</td>\n",
       "      <td>Corner</td>\n",
       "      <td>...</td>\n",
       "      <td>0</td>\n",
       "      <td>None</td>\n",
       "      <td>None</td>\n",
       "      <td>None</td>\n",
       "      <td>0</td>\n",
       "      <td>2</td>\n",
       "      <td>2006</td>\n",
       "      <td>WD</td>\n",
       "      <td>Abnorml</td>\n",
       "      <td>140000.0</td>\n",
       "    </tr>\n",
       "    <tr>\n",
       "      <th>5</th>\n",
       "      <td>60</td>\n",
       "      <td>RL</td>\n",
       "      <td>84.0</td>\n",
       "      <td>14260</td>\n",
       "      <td>Pave</td>\n",
       "      <td>None</td>\n",
       "      <td>IR1</td>\n",
       "      <td>Lvl</td>\n",
       "      <td>AllPub</td>\n",
       "      <td>FR2</td>\n",
       "      <td>...</td>\n",
       "      <td>0</td>\n",
       "      <td>None</td>\n",
       "      <td>None</td>\n",
       "      <td>None</td>\n",
       "      <td>0</td>\n",
       "      <td>12</td>\n",
       "      <td>2008</td>\n",
       "      <td>WD</td>\n",
       "      <td>Normal</td>\n",
       "      <td>250000.0</td>\n",
       "    </tr>\n",
       "    <tr>\n",
       "      <th>...</th>\n",
       "      <td>...</td>\n",
       "      <td>...</td>\n",
       "      <td>...</td>\n",
       "      <td>...</td>\n",
       "      <td>...</td>\n",
       "      <td>...</td>\n",
       "      <td>...</td>\n",
       "      <td>...</td>\n",
       "      <td>...</td>\n",
       "      <td>...</td>\n",
       "      <td>...</td>\n",
       "      <td>...</td>\n",
       "      <td>...</td>\n",
       "      <td>...</td>\n",
       "      <td>...</td>\n",
       "      <td>...</td>\n",
       "      <td>...</td>\n",
       "      <td>...</td>\n",
       "      <td>...</td>\n",
       "      <td>...</td>\n",
       "      <td>...</td>\n",
       "    </tr>\n",
       "    <tr>\n",
       "      <th>1456</th>\n",
       "      <td>60</td>\n",
       "      <td>RL</td>\n",
       "      <td>62.0</td>\n",
       "      <td>7917</td>\n",
       "      <td>Pave</td>\n",
       "      <td>None</td>\n",
       "      <td>Reg</td>\n",
       "      <td>Lvl</td>\n",
       "      <td>AllPub</td>\n",
       "      <td>Inside</td>\n",
       "      <td>...</td>\n",
       "      <td>0</td>\n",
       "      <td>None</td>\n",
       "      <td>None</td>\n",
       "      <td>None</td>\n",
       "      <td>0</td>\n",
       "      <td>8</td>\n",
       "      <td>2007</td>\n",
       "      <td>WD</td>\n",
       "      <td>Normal</td>\n",
       "      <td>175000.0</td>\n",
       "    </tr>\n",
       "    <tr>\n",
       "      <th>1457</th>\n",
       "      <td>20</td>\n",
       "      <td>RL</td>\n",
       "      <td>85.0</td>\n",
       "      <td>13175</td>\n",
       "      <td>Pave</td>\n",
       "      <td>None</td>\n",
       "      <td>Reg</td>\n",
       "      <td>Lvl</td>\n",
       "      <td>AllPub</td>\n",
       "      <td>Inside</td>\n",
       "      <td>...</td>\n",
       "      <td>0</td>\n",
       "      <td>None</td>\n",
       "      <td>MnPrv</td>\n",
       "      <td>None</td>\n",
       "      <td>0</td>\n",
       "      <td>2</td>\n",
       "      <td>2010</td>\n",
       "      <td>WD</td>\n",
       "      <td>Normal</td>\n",
       "      <td>210000.0</td>\n",
       "    </tr>\n",
       "    <tr>\n",
       "      <th>1458</th>\n",
       "      <td>70</td>\n",
       "      <td>RL</td>\n",
       "      <td>66.0</td>\n",
       "      <td>9042</td>\n",
       "      <td>Pave</td>\n",
       "      <td>None</td>\n",
       "      <td>Reg</td>\n",
       "      <td>Lvl</td>\n",
       "      <td>AllPub</td>\n",
       "      <td>Inside</td>\n",
       "      <td>...</td>\n",
       "      <td>0</td>\n",
       "      <td>None</td>\n",
       "      <td>GdPrv</td>\n",
       "      <td>Shed</td>\n",
       "      <td>2500</td>\n",
       "      <td>5</td>\n",
       "      <td>2010</td>\n",
       "      <td>WD</td>\n",
       "      <td>Normal</td>\n",
       "      <td>266500.0</td>\n",
       "    </tr>\n",
       "    <tr>\n",
       "      <th>1459</th>\n",
       "      <td>20</td>\n",
       "      <td>RL</td>\n",
       "      <td>68.0</td>\n",
       "      <td>9717</td>\n",
       "      <td>Pave</td>\n",
       "      <td>None</td>\n",
       "      <td>Reg</td>\n",
       "      <td>Lvl</td>\n",
       "      <td>AllPub</td>\n",
       "      <td>Inside</td>\n",
       "      <td>...</td>\n",
       "      <td>0</td>\n",
       "      <td>None</td>\n",
       "      <td>None</td>\n",
       "      <td>None</td>\n",
       "      <td>0</td>\n",
       "      <td>4</td>\n",
       "      <td>2010</td>\n",
       "      <td>WD</td>\n",
       "      <td>Normal</td>\n",
       "      <td>142125.0</td>\n",
       "    </tr>\n",
       "    <tr>\n",
       "      <th>1460</th>\n",
       "      <td>20</td>\n",
       "      <td>RL</td>\n",
       "      <td>75.0</td>\n",
       "      <td>9937</td>\n",
       "      <td>Pave</td>\n",
       "      <td>None</td>\n",
       "      <td>Reg</td>\n",
       "      <td>Lvl</td>\n",
       "      <td>AllPub</td>\n",
       "      <td>Inside</td>\n",
       "      <td>...</td>\n",
       "      <td>0</td>\n",
       "      <td>None</td>\n",
       "      <td>None</td>\n",
       "      <td>None</td>\n",
       "      <td>0</td>\n",
       "      <td>6</td>\n",
       "      <td>2008</td>\n",
       "      <td>WD</td>\n",
       "      <td>Normal</td>\n",
       "      <td>147500.0</td>\n",
       "    </tr>\n",
       "  </tbody>\n",
       "</table>\n",
       "<p>1460 rows × 80 columns</p>\n",
       "</div>"
      ],
      "text/plain": [
       "     MSSubClass MSZoning  LotFrontage  LotArea Street Alley LotShape  \\\n",
       "Id                                                                     \n",
       "1            60       RL         65.0     8450   Pave  None      Reg   \n",
       "2            20       RL         80.0     9600   Pave  None      Reg   \n",
       "3            60       RL         68.0    11250   Pave  None      IR1   \n",
       "4            70       RL         60.0     9550   Pave  None      IR1   \n",
       "5            60       RL         84.0    14260   Pave  None      IR1   \n",
       "...         ...      ...          ...      ...    ...   ...      ...   \n",
       "1456         60       RL         62.0     7917   Pave  None      Reg   \n",
       "1457         20       RL         85.0    13175   Pave  None      Reg   \n",
       "1458         70       RL         66.0     9042   Pave  None      Reg   \n",
       "1459         20       RL         68.0     9717   Pave  None      Reg   \n",
       "1460         20       RL         75.0     9937   Pave  None      Reg   \n",
       "\n",
       "     LandContour Utilities LotConfig  ... PoolArea PoolQC  Fence MiscFeature  \\\n",
       "Id                                    ...                                      \n",
       "1            Lvl    AllPub    Inside  ...        0   None   None        None   \n",
       "2            Lvl    AllPub       FR2  ...        0   None   None        None   \n",
       "3            Lvl    AllPub    Inside  ...        0   None   None        None   \n",
       "4            Lvl    AllPub    Corner  ...        0   None   None        None   \n",
       "5            Lvl    AllPub       FR2  ...        0   None   None        None   \n",
       "...          ...       ...       ...  ...      ...    ...    ...         ...   \n",
       "1456         Lvl    AllPub    Inside  ...        0   None   None        None   \n",
       "1457         Lvl    AllPub    Inside  ...        0   None  MnPrv        None   \n",
       "1458         Lvl    AllPub    Inside  ...        0   None  GdPrv        Shed   \n",
       "1459         Lvl    AllPub    Inside  ...        0   None   None        None   \n",
       "1460         Lvl    AllPub    Inside  ...        0   None   None        None   \n",
       "\n",
       "     MiscVal MoSold YrSold SaleType  SaleCondition  SalePrice  \n",
       "Id                                                             \n",
       "1          0      2   2008       WD         Normal   208500.0  \n",
       "2          0      5   2007       WD         Normal   181500.0  \n",
       "3          0      9   2008       WD         Normal   223500.0  \n",
       "4          0      2   2006       WD        Abnorml   140000.0  \n",
       "5          0     12   2008       WD         Normal   250000.0  \n",
       "...      ...    ...    ...      ...            ...        ...  \n",
       "1456       0      8   2007       WD         Normal   175000.0  \n",
       "1457       0      2   2010       WD         Normal   210000.0  \n",
       "1458    2500      5   2010       WD         Normal   266500.0  \n",
       "1459       0      4   2010       WD         Normal   142125.0  \n",
       "1460       0      6   2008       WD         Normal   147500.0  \n",
       "\n",
       "[1460 rows x 80 columns]"
      ]
     },
     "metadata": {},
     "output_type": "display_data"
    },
    {
     "data": {
      "text/html": [
       "<div>\n",
       "<style scoped>\n",
       "    .dataframe tbody tr th:only-of-type {\n",
       "        vertical-align: middle;\n",
       "    }\n",
       "\n",
       "    .dataframe tbody tr th {\n",
       "        vertical-align: top;\n",
       "    }\n",
       "\n",
       "    .dataframe thead th {\n",
       "        text-align: right;\n",
       "    }\n",
       "</style>\n",
       "<table border=\"1\" class=\"dataframe\">\n",
       "  <thead>\n",
       "    <tr style=\"text-align: right;\">\n",
       "      <th></th>\n",
       "      <th>MSSubClass</th>\n",
       "      <th>MSZoning</th>\n",
       "      <th>LotFrontage</th>\n",
       "      <th>LotArea</th>\n",
       "      <th>Street</th>\n",
       "      <th>Alley</th>\n",
       "      <th>LotShape</th>\n",
       "      <th>LandContour</th>\n",
       "      <th>Utilities</th>\n",
       "      <th>LotConfig</th>\n",
       "      <th>...</th>\n",
       "      <th>PoolArea</th>\n",
       "      <th>PoolQC</th>\n",
       "      <th>Fence</th>\n",
       "      <th>MiscFeature</th>\n",
       "      <th>MiscVal</th>\n",
       "      <th>MoSold</th>\n",
       "      <th>YrSold</th>\n",
       "      <th>SaleType</th>\n",
       "      <th>SaleCondition</th>\n",
       "      <th>SalePrice</th>\n",
       "    </tr>\n",
       "    <tr>\n",
       "      <th>Id</th>\n",
       "      <th></th>\n",
       "      <th></th>\n",
       "      <th></th>\n",
       "      <th></th>\n",
       "      <th></th>\n",
       "      <th></th>\n",
       "      <th></th>\n",
       "      <th></th>\n",
       "      <th></th>\n",
       "      <th></th>\n",
       "      <th></th>\n",
       "      <th></th>\n",
       "      <th></th>\n",
       "      <th></th>\n",
       "      <th></th>\n",
       "      <th></th>\n",
       "      <th></th>\n",
       "      <th></th>\n",
       "      <th></th>\n",
       "      <th></th>\n",
       "      <th></th>\n",
       "    </tr>\n",
       "  </thead>\n",
       "  <tbody>\n",
       "    <tr>\n",
       "      <th>1461</th>\n",
       "      <td>20</td>\n",
       "      <td>RH</td>\n",
       "      <td>80.0</td>\n",
       "      <td>11622</td>\n",
       "      <td>Pave</td>\n",
       "      <td>None</td>\n",
       "      <td>Reg</td>\n",
       "      <td>Lvl</td>\n",
       "      <td>AllPub</td>\n",
       "      <td>Inside</td>\n",
       "      <td>...</td>\n",
       "      <td>0</td>\n",
       "      <td>None</td>\n",
       "      <td>MnPrv</td>\n",
       "      <td>None</td>\n",
       "      <td>0</td>\n",
       "      <td>6</td>\n",
       "      <td>2010</td>\n",
       "      <td>WD</td>\n",
       "      <td>Normal</td>\n",
       "      <td>0.0</td>\n",
       "    </tr>\n",
       "    <tr>\n",
       "      <th>1462</th>\n",
       "      <td>20</td>\n",
       "      <td>RL</td>\n",
       "      <td>81.0</td>\n",
       "      <td>14267</td>\n",
       "      <td>Pave</td>\n",
       "      <td>None</td>\n",
       "      <td>IR1</td>\n",
       "      <td>Lvl</td>\n",
       "      <td>AllPub</td>\n",
       "      <td>Corner</td>\n",
       "      <td>...</td>\n",
       "      <td>0</td>\n",
       "      <td>None</td>\n",
       "      <td>None</td>\n",
       "      <td>Gar2</td>\n",
       "      <td>12500</td>\n",
       "      <td>6</td>\n",
       "      <td>2010</td>\n",
       "      <td>WD</td>\n",
       "      <td>Normal</td>\n",
       "      <td>0.0</td>\n",
       "    </tr>\n",
       "    <tr>\n",
       "      <th>1463</th>\n",
       "      <td>60</td>\n",
       "      <td>RL</td>\n",
       "      <td>74.0</td>\n",
       "      <td>13830</td>\n",
       "      <td>Pave</td>\n",
       "      <td>None</td>\n",
       "      <td>IR1</td>\n",
       "      <td>Lvl</td>\n",
       "      <td>AllPub</td>\n",
       "      <td>Inside</td>\n",
       "      <td>...</td>\n",
       "      <td>0</td>\n",
       "      <td>None</td>\n",
       "      <td>MnPrv</td>\n",
       "      <td>None</td>\n",
       "      <td>0</td>\n",
       "      <td>3</td>\n",
       "      <td>2010</td>\n",
       "      <td>WD</td>\n",
       "      <td>Normal</td>\n",
       "      <td>0.0</td>\n",
       "    </tr>\n",
       "    <tr>\n",
       "      <th>1464</th>\n",
       "      <td>60</td>\n",
       "      <td>RL</td>\n",
       "      <td>78.0</td>\n",
       "      <td>9978</td>\n",
       "      <td>Pave</td>\n",
       "      <td>None</td>\n",
       "      <td>IR1</td>\n",
       "      <td>Lvl</td>\n",
       "      <td>AllPub</td>\n",
       "      <td>Inside</td>\n",
       "      <td>...</td>\n",
       "      <td>0</td>\n",
       "      <td>None</td>\n",
       "      <td>None</td>\n",
       "      <td>None</td>\n",
       "      <td>0</td>\n",
       "      <td>6</td>\n",
       "      <td>2010</td>\n",
       "      <td>WD</td>\n",
       "      <td>Normal</td>\n",
       "      <td>0.0</td>\n",
       "    </tr>\n",
       "    <tr>\n",
       "      <th>1465</th>\n",
       "      <td>120</td>\n",
       "      <td>RL</td>\n",
       "      <td>43.0</td>\n",
       "      <td>5005</td>\n",
       "      <td>Pave</td>\n",
       "      <td>None</td>\n",
       "      <td>IR1</td>\n",
       "      <td>HLS</td>\n",
       "      <td>AllPub</td>\n",
       "      <td>Inside</td>\n",
       "      <td>...</td>\n",
       "      <td>0</td>\n",
       "      <td>None</td>\n",
       "      <td>None</td>\n",
       "      <td>None</td>\n",
       "      <td>0</td>\n",
       "      <td>1</td>\n",
       "      <td>2010</td>\n",
       "      <td>WD</td>\n",
       "      <td>Normal</td>\n",
       "      <td>0.0</td>\n",
       "    </tr>\n",
       "    <tr>\n",
       "      <th>...</th>\n",
       "      <td>...</td>\n",
       "      <td>...</td>\n",
       "      <td>...</td>\n",
       "      <td>...</td>\n",
       "      <td>...</td>\n",
       "      <td>...</td>\n",
       "      <td>...</td>\n",
       "      <td>...</td>\n",
       "      <td>...</td>\n",
       "      <td>...</td>\n",
       "      <td>...</td>\n",
       "      <td>...</td>\n",
       "      <td>...</td>\n",
       "      <td>...</td>\n",
       "      <td>...</td>\n",
       "      <td>...</td>\n",
       "      <td>...</td>\n",
       "      <td>...</td>\n",
       "      <td>...</td>\n",
       "      <td>...</td>\n",
       "      <td>...</td>\n",
       "    </tr>\n",
       "    <tr>\n",
       "      <th>2915</th>\n",
       "      <td>160</td>\n",
       "      <td>RM</td>\n",
       "      <td>21.0</td>\n",
       "      <td>1936</td>\n",
       "      <td>Pave</td>\n",
       "      <td>None</td>\n",
       "      <td>Reg</td>\n",
       "      <td>Lvl</td>\n",
       "      <td>AllPub</td>\n",
       "      <td>Inside</td>\n",
       "      <td>...</td>\n",
       "      <td>0</td>\n",
       "      <td>None</td>\n",
       "      <td>None</td>\n",
       "      <td>None</td>\n",
       "      <td>0</td>\n",
       "      <td>6</td>\n",
       "      <td>2006</td>\n",
       "      <td>WD</td>\n",
       "      <td>Normal</td>\n",
       "      <td>0.0</td>\n",
       "    </tr>\n",
       "    <tr>\n",
       "      <th>2916</th>\n",
       "      <td>160</td>\n",
       "      <td>RM</td>\n",
       "      <td>21.0</td>\n",
       "      <td>1894</td>\n",
       "      <td>Pave</td>\n",
       "      <td>None</td>\n",
       "      <td>Reg</td>\n",
       "      <td>Lvl</td>\n",
       "      <td>AllPub</td>\n",
       "      <td>Inside</td>\n",
       "      <td>...</td>\n",
       "      <td>0</td>\n",
       "      <td>None</td>\n",
       "      <td>None</td>\n",
       "      <td>None</td>\n",
       "      <td>0</td>\n",
       "      <td>4</td>\n",
       "      <td>2006</td>\n",
       "      <td>WD</td>\n",
       "      <td>Abnorml</td>\n",
       "      <td>0.0</td>\n",
       "    </tr>\n",
       "    <tr>\n",
       "      <th>2917</th>\n",
       "      <td>20</td>\n",
       "      <td>RL</td>\n",
       "      <td>160.0</td>\n",
       "      <td>20000</td>\n",
       "      <td>Pave</td>\n",
       "      <td>None</td>\n",
       "      <td>Reg</td>\n",
       "      <td>Lvl</td>\n",
       "      <td>AllPub</td>\n",
       "      <td>Inside</td>\n",
       "      <td>...</td>\n",
       "      <td>0</td>\n",
       "      <td>None</td>\n",
       "      <td>None</td>\n",
       "      <td>None</td>\n",
       "      <td>0</td>\n",
       "      <td>9</td>\n",
       "      <td>2006</td>\n",
       "      <td>WD</td>\n",
       "      <td>Abnorml</td>\n",
       "      <td>0.0</td>\n",
       "    </tr>\n",
       "    <tr>\n",
       "      <th>2918</th>\n",
       "      <td>85</td>\n",
       "      <td>RL</td>\n",
       "      <td>62.0</td>\n",
       "      <td>10441</td>\n",
       "      <td>Pave</td>\n",
       "      <td>None</td>\n",
       "      <td>Reg</td>\n",
       "      <td>Lvl</td>\n",
       "      <td>AllPub</td>\n",
       "      <td>Inside</td>\n",
       "      <td>...</td>\n",
       "      <td>0</td>\n",
       "      <td>None</td>\n",
       "      <td>MnPrv</td>\n",
       "      <td>Shed</td>\n",
       "      <td>700</td>\n",
       "      <td>7</td>\n",
       "      <td>2006</td>\n",
       "      <td>WD</td>\n",
       "      <td>Normal</td>\n",
       "      <td>0.0</td>\n",
       "    </tr>\n",
       "    <tr>\n",
       "      <th>2919</th>\n",
       "      <td>60</td>\n",
       "      <td>RL</td>\n",
       "      <td>74.0</td>\n",
       "      <td>9627</td>\n",
       "      <td>Pave</td>\n",
       "      <td>None</td>\n",
       "      <td>Reg</td>\n",
       "      <td>Lvl</td>\n",
       "      <td>AllPub</td>\n",
       "      <td>Inside</td>\n",
       "      <td>...</td>\n",
       "      <td>0</td>\n",
       "      <td>None</td>\n",
       "      <td>None</td>\n",
       "      <td>None</td>\n",
       "      <td>0</td>\n",
       "      <td>11</td>\n",
       "      <td>2006</td>\n",
       "      <td>WD</td>\n",
       "      <td>Normal</td>\n",
       "      <td>0.0</td>\n",
       "    </tr>\n",
       "  </tbody>\n",
       "</table>\n",
       "<p>1459 rows × 80 columns</p>\n",
       "</div>"
      ],
      "text/plain": [
       "     MSSubClass MSZoning  LotFrontage  LotArea Street Alley LotShape  \\\n",
       "Id                                                                     \n",
       "1461         20       RH         80.0    11622   Pave  None      Reg   \n",
       "1462         20       RL         81.0    14267   Pave  None      IR1   \n",
       "1463         60       RL         74.0    13830   Pave  None      IR1   \n",
       "1464         60       RL         78.0     9978   Pave  None      IR1   \n",
       "1465        120       RL         43.0     5005   Pave  None      IR1   \n",
       "...         ...      ...          ...      ...    ...   ...      ...   \n",
       "2915        160       RM         21.0     1936   Pave  None      Reg   \n",
       "2916        160       RM         21.0     1894   Pave  None      Reg   \n",
       "2917         20       RL        160.0    20000   Pave  None      Reg   \n",
       "2918         85       RL         62.0    10441   Pave  None      Reg   \n",
       "2919         60       RL         74.0     9627   Pave  None      Reg   \n",
       "\n",
       "     LandContour Utilities LotConfig  ... PoolArea PoolQC  Fence MiscFeature  \\\n",
       "Id                                    ...                                      \n",
       "1461         Lvl    AllPub    Inside  ...        0   None  MnPrv        None   \n",
       "1462         Lvl    AllPub    Corner  ...        0   None   None        Gar2   \n",
       "1463         Lvl    AllPub    Inside  ...        0   None  MnPrv        None   \n",
       "1464         Lvl    AllPub    Inside  ...        0   None   None        None   \n",
       "1465         HLS    AllPub    Inside  ...        0   None   None        None   \n",
       "...          ...       ...       ...  ...      ...    ...    ...         ...   \n",
       "2915         Lvl    AllPub    Inside  ...        0   None   None        None   \n",
       "2916         Lvl    AllPub    Inside  ...        0   None   None        None   \n",
       "2917         Lvl    AllPub    Inside  ...        0   None   None        None   \n",
       "2918         Lvl    AllPub    Inside  ...        0   None  MnPrv        Shed   \n",
       "2919         Lvl    AllPub    Inside  ...        0   None   None        None   \n",
       "\n",
       "     MiscVal MoSold YrSold SaleType  SaleCondition  SalePrice  \n",
       "Id                                                             \n",
       "1461       0      6   2010       WD         Normal        0.0  \n",
       "1462   12500      6   2010       WD         Normal        0.0  \n",
       "1463       0      3   2010       WD         Normal        0.0  \n",
       "1464       0      6   2010       WD         Normal        0.0  \n",
       "1465       0      1   2010       WD         Normal        0.0  \n",
       "...      ...    ...    ...      ...            ...        ...  \n",
       "2915       0      6   2006       WD         Normal        0.0  \n",
       "2916       0      4   2006       WD        Abnorml        0.0  \n",
       "2917       0      9   2006       WD        Abnorml        0.0  \n",
       "2918     700      7   2006       WD         Normal        0.0  \n",
       "2919       0     11   2006       WD         Normal        0.0  \n",
       "\n",
       "[1459 rows x 80 columns]"
      ]
     },
     "metadata": {},
     "output_type": "display_data"
    },
    {
     "name": "stdout",
     "output_type": "stream",
     "text": [
      "<class 'pandas.core.frame.DataFrame'>\n",
      "Index: 1460 entries, 1 to 1460\n",
      "Data columns (total 80 columns):\n",
      " #   Column            Non-Null Count  Dtype   \n",
      "---  ------            --------------  -----   \n",
      " 0   MSSubClass        1460 non-null   category\n",
      " 1   MSZoning          1460 non-null   category\n",
      " 2   LotFrontage       1460 non-null   float64 \n",
      " 3   LotArea           1460 non-null   int64   \n",
      " 4   Street            1460 non-null   category\n",
      " 5   Alley             1460 non-null   category\n",
      " 6   LotShape          1460 non-null   category\n",
      " 7   LandContour       1460 non-null   category\n",
      " 8   Utilities         1460 non-null   category\n",
      " 9   LotConfig         1460 non-null   category\n",
      " 10  LandSlope         1460 non-null   category\n",
      " 11  Neighborhood      1460 non-null   category\n",
      " 12  Condition1        1460 non-null   category\n",
      " 13  Condition2        1460 non-null   category\n",
      " 14  BldgType          1460 non-null   category\n",
      " 15  HouseStyle        1460 non-null   category\n",
      " 16  OverallQual       1460 non-null   category\n",
      " 17  OverallCond       1460 non-null   category\n",
      " 18  YearBuilt         1460 non-null   int64   \n",
      " 19  YearRemodAdd      1460 non-null   int64   \n",
      " 20  RoofStyle         1460 non-null   category\n",
      " 21  RoofMatl          1460 non-null   category\n",
      " 22  Exterior1st       1460 non-null   category\n",
      " 23  Exterior2nd       1460 non-null   category\n",
      " 24  MasVnrType        1460 non-null   category\n",
      " 25  MasVnrArea        1460 non-null   float64 \n",
      " 26  ExterQual         1460 non-null   category\n",
      " 27  ExterCond         1460 non-null   category\n",
      " 28  Foundation        1460 non-null   category\n",
      " 29  BsmtQual          1460 non-null   category\n",
      " 30  BsmtCond          1460 non-null   category\n",
      " 31  BsmtExposure      1460 non-null   category\n",
      " 32  BsmtFinType1      1460 non-null   category\n",
      " 33  BsmtFinSF1        1460 non-null   float64 \n",
      " 34  BsmtFinType2      1460 non-null   category\n",
      " 35  BsmtFinSF2        1460 non-null   float64 \n",
      " 36  BsmtUnfSF         1460 non-null   float64 \n",
      " 37  TotalBsmtSF       1460 non-null   float64 \n",
      " 38  Heating           1460 non-null   category\n",
      " 39  HeatingQC         1460 non-null   category\n",
      " 40  CentralAir        1460 non-null   category\n",
      " 41  Electrical        1460 non-null   category\n",
      " 42  FirstFlrSF        1460 non-null   int64   \n",
      " 43  SecondFlrSF       1460 non-null   int64   \n",
      " 44  LowQualFinSF      1460 non-null   int64   \n",
      " 45  GrLivArea         1460 non-null   int64   \n",
      " 46  BsmtFullBath      1460 non-null   float64 \n",
      " 47  BsmtHalfBath      1460 non-null   float64 \n",
      " 48  FullBath          1460 non-null   int64   \n",
      " 49  HalfBath          1460 non-null   int64   \n",
      " 50  BedroomAbvGr      1460 non-null   int64   \n",
      " 51  KitchenAbvGr      1460 non-null   int64   \n",
      " 52  KitchenQual       1460 non-null   category\n",
      " 53  TotRmsAbvGrd      1460 non-null   int64   \n",
      " 54  Functional        1460 non-null   category\n",
      " 55  Fireplaces        1460 non-null   int64   \n",
      " 56  FireplaceQu       1460 non-null   category\n",
      " 57  GarageType        1460 non-null   category\n",
      " 58  GarageYrBlt       1460 non-null   float64 \n",
      " 59  GarageFinish      1460 non-null   category\n",
      " 60  GarageCars        1460 non-null   float64 \n",
      " 61  GarageArea        1460 non-null   float64 \n",
      " 62  GarageQual        1460 non-null   category\n",
      " 63  GarageCond        1460 non-null   category\n",
      " 64  PavedDrive        1460 non-null   category\n",
      " 65  WoodDeckSF        1460 non-null   int64   \n",
      " 66  OpenPorchSF       1460 non-null   int64   \n",
      " 67  EnclosedPorch     1460 non-null   int64   \n",
      " 68  Threeseasonporch  1460 non-null   int64   \n",
      " 69  ScreenPorch       1460 non-null   int64   \n",
      " 70  PoolArea          1460 non-null   int64   \n",
      " 71  PoolQC            1460 non-null   category\n",
      " 72  Fence             1460 non-null   category\n",
      " 73  MiscFeature       1460 non-null   category\n",
      " 74  MiscVal           1460 non-null   int64   \n",
      " 75  MoSold            1460 non-null   int64   \n",
      " 76  YrSold            1460 non-null   int64   \n",
      " 77  SaleType          1460 non-null   category\n",
      " 78  SaleCondition     1460 non-null   category\n",
      " 79  SalePrice         1460 non-null   float64 \n",
      "dtypes: category(46), float64(12), int64(22)\n",
      "memory usage: 478.9 KB\n"
     ]
    },
    {
     "data": {
      "text/plain": [
       "None"
      ]
     },
     "metadata": {},
     "output_type": "display_data"
    },
    {
     "name": "stdout",
     "output_type": "stream",
     "text": [
      "<class 'pandas.core.frame.DataFrame'>\n",
      "Index: 1459 entries, 1461 to 2919\n",
      "Data columns (total 80 columns):\n",
      " #   Column            Non-Null Count  Dtype   \n",
      "---  ------            --------------  -----   \n",
      " 0   MSSubClass        1459 non-null   category\n",
      " 1   MSZoning          1459 non-null   category\n",
      " 2   LotFrontage       1459 non-null   float64 \n",
      " 3   LotArea           1459 non-null   int64   \n",
      " 4   Street            1459 non-null   category\n",
      " 5   Alley             1459 non-null   category\n",
      " 6   LotShape          1459 non-null   category\n",
      " 7   LandContour       1459 non-null   category\n",
      " 8   Utilities         1459 non-null   category\n",
      " 9   LotConfig         1459 non-null   category\n",
      " 10  LandSlope         1459 non-null   category\n",
      " 11  Neighborhood      1459 non-null   category\n",
      " 12  Condition1        1459 non-null   category\n",
      " 13  Condition2        1459 non-null   category\n",
      " 14  BldgType          1459 non-null   category\n",
      " 15  HouseStyle        1459 non-null   category\n",
      " 16  OverallQual       1459 non-null   category\n",
      " 17  OverallCond       1459 non-null   category\n",
      " 18  YearBuilt         1459 non-null   int64   \n",
      " 19  YearRemodAdd      1459 non-null   int64   \n",
      " 20  RoofStyle         1459 non-null   category\n",
      " 21  RoofMatl          1459 non-null   category\n",
      " 22  Exterior1st       1459 non-null   category\n",
      " 23  Exterior2nd       1459 non-null   category\n",
      " 24  MasVnrType        1459 non-null   category\n",
      " 25  MasVnrArea        1459 non-null   float64 \n",
      " 26  ExterQual         1459 non-null   category\n",
      " 27  ExterCond         1459 non-null   category\n",
      " 28  Foundation        1459 non-null   category\n",
      " 29  BsmtQual          1459 non-null   category\n",
      " 30  BsmtCond          1459 non-null   category\n",
      " 31  BsmtExposure      1459 non-null   category\n",
      " 32  BsmtFinType1      1459 non-null   category\n",
      " 33  BsmtFinSF1        1459 non-null   float64 \n",
      " 34  BsmtFinType2      1459 non-null   category\n",
      " 35  BsmtFinSF2        1459 non-null   float64 \n",
      " 36  BsmtUnfSF         1459 non-null   float64 \n",
      " 37  TotalBsmtSF       1459 non-null   float64 \n",
      " 38  Heating           1459 non-null   category\n",
      " 39  HeatingQC         1459 non-null   category\n",
      " 40  CentralAir        1459 non-null   category\n",
      " 41  Electrical        1459 non-null   category\n",
      " 42  FirstFlrSF        1459 non-null   int64   \n",
      " 43  SecondFlrSF       1459 non-null   int64   \n",
      " 44  LowQualFinSF      1459 non-null   int64   \n",
      " 45  GrLivArea         1459 non-null   int64   \n",
      " 46  BsmtFullBath      1459 non-null   float64 \n",
      " 47  BsmtHalfBath      1459 non-null   float64 \n",
      " 48  FullBath          1459 non-null   int64   \n",
      " 49  HalfBath          1459 non-null   int64   \n",
      " 50  BedroomAbvGr      1459 non-null   int64   \n",
      " 51  KitchenAbvGr      1459 non-null   int64   \n",
      " 52  KitchenQual       1459 non-null   category\n",
      " 53  TotRmsAbvGrd      1459 non-null   int64   \n",
      " 54  Functional        1459 non-null   category\n",
      " 55  Fireplaces        1459 non-null   int64   \n",
      " 56  FireplaceQu       1459 non-null   category\n",
      " 57  GarageType        1459 non-null   category\n",
      " 58  GarageYrBlt       1459 non-null   float64 \n",
      " 59  GarageFinish      1459 non-null   category\n",
      " 60  GarageCars        1459 non-null   float64 \n",
      " 61  GarageArea        1459 non-null   float64 \n",
      " 62  GarageQual        1459 non-null   category\n",
      " 63  GarageCond        1459 non-null   category\n",
      " 64  PavedDrive        1459 non-null   category\n",
      " 65  WoodDeckSF        1459 non-null   int64   \n",
      " 66  OpenPorchSF       1459 non-null   int64   \n",
      " 67  EnclosedPorch     1459 non-null   int64   \n",
      " 68  Threeseasonporch  1459 non-null   int64   \n",
      " 69  ScreenPorch       1459 non-null   int64   \n",
      " 70  PoolArea          1459 non-null   int64   \n",
      " 71  PoolQC            1459 non-null   category\n",
      " 72  Fence             1459 non-null   category\n",
      " 73  MiscFeature       1459 non-null   category\n",
      " 74  MiscVal           1459 non-null   int64   \n",
      " 75  MoSold            1459 non-null   int64   \n",
      " 76  YrSold            1459 non-null   int64   \n",
      " 77  SaleType          1459 non-null   category\n",
      " 78  SaleCondition     1459 non-null   category\n",
      " 79  SalePrice         1459 non-null   float64 \n",
      "dtypes: category(46), float64(12), int64(22)\n",
      "memory usage: 478.6 KB\n"
     ]
    },
    {
     "data": {
      "text/plain": [
       "None"
      ]
     },
     "metadata": {},
     "output_type": "display_data"
    }
   ],
   "source": [
    "# Peek at the values\n",
    "display(df_train)\n",
    "display(df_test)\n",
    "\n",
    "# Display information about dtypes and missing values\n",
    "display(df_train.info())\n",
    "display(df_test.info())"
   ]
  },
  {
   "cell_type": "markdown",
   "id": "2a9dd9ec",
   "metadata": {
    "papermill": {
     "duration": 0.011394,
     "end_time": "2025-04-18T16:10:26.979102",
     "exception": false,
     "start_time": "2025-04-18T16:10:26.967708",
     "status": "completed"
    },
    "tags": []
   },
   "source": [
    "# Establish Baseline\n",
    "establish a baseline score to judge our feature engineering against.\n",
    "\n",
    "- **Label encoding for categoricals** \n",
    "- **Label encoding is good for XGBoost and RandomForest,** \n",
    "- **but one-hot would be better for models like Lasso or Ridge.** \n",
    "- **The `cat.codes` attribute holds the category levels.** "
   ]
  },
  {
   "cell_type": "code",
   "execution_count": 10,
   "id": "42161c1f",
   "metadata": {
    "execution": {
     "iopub.execute_input": "2025-04-18T16:10:27.004396Z",
     "iopub.status.busy": "2025-04-18T16:10:27.004025Z",
     "iopub.status.idle": "2025-04-18T16:10:27.010572Z",
     "shell.execute_reply": "2025-04-18T16:10:27.009393Z"
    },
    "papermill": {
     "duration": 0.021463,
     "end_time": "2025-04-18T16:10:27.012657",
     "exception": false,
     "start_time": "2025-04-18T16:10:26.991194",
     "status": "completed"
    },
    "tags": []
   },
   "outputs": [],
   "source": [
    "def score_dataset(X , y , model=XGBRegressor()):\n",
    "    # Label encoding for categoricals\n",
    "    \n",
    "    # Label encoding is good for XGBoost and RandomForest , but one-hot\n",
    "    # Would be better for models like Lasso or Ridge. the 'cat.codes'\n",
    "    # attributes holds the category levels.\n",
    "    for colname in X.select_dtypes([\"category\"]):\n",
    "        X[colname] = X[colname].cat.codes\n",
    "    # Metric for Housing Competition is RMSLE (Root Mean Squared Log Error)\n",
    "    log_y = np.log(y)\n",
    "    score = cross_val_score(\n",
    "        model, X , log_y , cv=5 , scoring=\"neg_mean_squared_error\",\n",
    "    )\n",
    "    score = -1 * score.mean()\n",
    "    score = np.sqrt(score)\n",
    "    return score "
   ]
  },
  {
   "cell_type": "markdown",
   "id": "781ab654",
   "metadata": {
    "papermill": {
     "duration": 0.011261,
     "end_time": "2025-04-18T16:10:27.035793",
     "exception": false,
     "start_time": "2025-04-18T16:10:27.024532",
     "status": "completed"
    },
    "tags": []
   },
   "source": [
    "We can reuse this scoring function anytime we want to try out a new feature set. We'll run it now on the processed data with no additional features and get a baseline score:\n"
   ]
  },
  {
   "cell_type": "code",
   "execution_count": 11,
   "id": "6d57568e",
   "metadata": {
    "execution": {
     "iopub.execute_input": "2025-04-18T16:10:27.059916Z",
     "iopub.status.busy": "2025-04-18T16:10:27.059531Z",
     "iopub.status.idle": "2025-04-18T16:10:28.804164Z",
     "shell.execute_reply": "2025-04-18T16:10:28.803329Z"
    },
    "papermill": {
     "duration": 1.759998,
     "end_time": "2025-04-18T16:10:28.807177",
     "exception": false,
     "start_time": "2025-04-18T16:10:27.047179",
     "status": "completed"
    },
    "tags": []
   },
   "outputs": [
    {
     "name": "stdout",
     "output_type": "stream",
     "text": [
      "Baseline score: 0.14387 RSMLE\n"
     ]
    }
   ],
   "source": [
    "X = df_train.copy()\n",
    "y = X.pop(\"SalePrice\")\n",
    "\n",
    "baseline_score = score_dataset(X ,y)\n",
    "print(f\"Baseline score: {baseline_score:.5f} RSMLE\")"
   ]
  },
  {
   "cell_type": "markdown",
   "id": "c9074748",
   "metadata": {
    "papermill": {
     "duration": 0.010624,
     "end_time": "2025-04-18T16:10:28.829606",
     "exception": false,
     "start_time": "2025-04-18T16:10:28.818982",
     "status": "completed"
    },
    "tags": []
   },
   "source": [
    "# Step 2 - Feature Utility Scores\n",
    "In Feature Engineering Course Lesson 2 we saw how to use mutual information to compute a  *utility score* for a feature, giving you an indication of how much potential the feature has. This hidden cell defines the two utility functions we used, `make_mi_scores` and `plot_mi_scores`:"
   ]
  },
  {
   "cell_type": "code",
   "execution_count": 12,
   "id": "91f6cfdd",
   "metadata": {
    "execution": {
     "iopub.execute_input": "2025-04-18T16:10:28.854496Z",
     "iopub.status.busy": "2025-04-18T16:10:28.853601Z",
     "iopub.status.idle": "2025-04-18T16:10:28.861881Z",
     "shell.execute_reply": "2025-04-18T16:10:28.860485Z"
    },
    "papermill": {
     "duration": 0.023381,
     "end_time": "2025-04-18T16:10:28.864274",
     "exception": false,
     "start_time": "2025-04-18T16:10:28.840893",
     "status": "completed"
    },
    "tags": []
   },
   "outputs": [],
   "source": [
    "def make_mi_scores(X, y):\n",
    "    X = X.copy()\n",
    "    for colname in X.select_dtypes([\"object\",\"category\"]):\n",
    "        X[colname],_ = X[colname].factorize()\n",
    "    # All discrete features should now have integer dtypes\n",
    "    discrete_features = [pd.api.types.is_integer_dtype(t) for t in X.dtypes]\n",
    "    mi_scores = mutual_info_regression(X ,y, discrete_features =discrete_features , random_state=0)\n",
    "    mi_scores = pd.Series(mi_scores , name=\"MI Scores\", index = X.columns)\n",
    "    mi_scores = mi_scores.sort_values(ascending=False)\n",
    "    return mi_scores\n",
    "\n",
    "def plot_mi_scores(scores):\n",
    "    scores = scores.sort_values(ascending=True)\n",
    "    width = np.arange(len(scores))\n",
    "    ticks = list(scores.index)\n",
    "    plt.barh(width , scores)\n",
    "    plt.yticks(width, ticks)\n",
    "    plt.title(\"Mutual Information Scores\")\n",
    "    \n",
    "    \n",
    "    "
   ]
  },
  {
   "cell_type": "markdown",
   "id": "b27681c8",
   "metadata": {
    "papermill": {
     "duration": 0.011684,
     "end_time": "2025-04-18T16:10:28.887167",
     "exception": false,
     "start_time": "2025-04-18T16:10:28.875483",
     "status": "completed"
    },
    "tags": []
   },
   "source": [
    "Let's look at our feature scores again:"
   ]
  },
  {
   "cell_type": "code",
   "execution_count": 13,
   "id": "b5f4d75d",
   "metadata": {
    "execution": {
     "iopub.execute_input": "2025-04-18T16:10:28.912260Z",
     "iopub.status.busy": "2025-04-18T16:10:28.911861Z",
     "iopub.status.idle": "2025-04-18T16:10:31.166097Z",
     "shell.execute_reply": "2025-04-18T16:10:31.165049Z"
    },
    "papermill": {
     "duration": 2.270135,
     "end_time": "2025-04-18T16:10:31.168370",
     "exception": false,
     "start_time": "2025-04-18T16:10:28.898235",
     "status": "completed"
    },
    "tags": []
   },
   "outputs": [
    {
     "data": {
      "text/plain": [
       "OverallQual     0.571457\n",
       "Neighborhood    0.526220\n",
       "GrLivArea       0.430395\n",
       "YearBuilt       0.407974\n",
       "LotArea         0.394468\n",
       "                  ...   \n",
       "PoolQC          0.000000\n",
       "MiscFeature     0.000000\n",
       "MiscVal         0.000000\n",
       "MoSold          0.000000\n",
       "YrSold          0.000000\n",
       "Name: MI Scores, Length: 79, dtype: float64"
      ]
     },
     "execution_count": 13,
     "metadata": {},
     "output_type": "execute_result"
    }
   ],
   "source": [
    "X = df_train.copy()\n",
    "y = X.pop(\"SalePrice\")\n",
    "\n",
    "mi_scores = make_mi_scores(X,y)\n",
    "mi_scores"
   ]
  },
  {
   "cell_type": "markdown",
   "id": "84a24f7c",
   "metadata": {
    "papermill": {
     "duration": 0.011347,
     "end_time": "2025-04-18T16:10:31.191042",
     "exception": false,
     "start_time": "2025-04-18T16:10:31.179695",
     "status": "completed"
    },
    "tags": []
   },
   "source": [
    "You can see that we have a number of features that are highly informative and also some that don't seem to be informative at all (at least by themselves). As we learn in  Feature Engineering Course Tutorial 2, the top scoring features will usually pay-off the most during feature development, so it could be a good idea to focus your efforts on those. On the other hand, training on uninformative features can lead to overfitting. So, the features with 0.0 scores we'll drop entirely:"
   ]
  },
  {
   "cell_type": "code",
   "execution_count": 14,
   "id": "bad2fa75",
   "metadata": {
    "execution": {
     "iopub.execute_input": "2025-04-18T16:10:31.215964Z",
     "iopub.status.busy": "2025-04-18T16:10:31.215507Z",
     "iopub.status.idle": "2025-04-18T16:10:31.220491Z",
     "shell.execute_reply": "2025-04-18T16:10:31.219339Z"
    },
    "papermill": {
     "duration": 0.021137,
     "end_time": "2025-04-18T16:10:31.223731",
     "exception": false,
     "start_time": "2025-04-18T16:10:31.202594",
     "status": "completed"
    },
    "tags": []
   },
   "outputs": [],
   "source": [
    "def drop_uninformative(df , mi_scores):\n",
    "    return df.loc[: ,mi_scores > 0.0]"
   ]
  },
  {
   "cell_type": "markdown",
   "id": "c78105bb",
   "metadata": {
    "papermill": {
     "duration": 0.01236,
     "end_time": "2025-04-18T16:10:31.248597",
     "exception": false,
     "start_time": "2025-04-18T16:10:31.236237",
     "status": "completed"
    },
    "tags": []
   },
   "source": [
    "Removing them does lead to a modest performance gain:"
   ]
  },
  {
   "cell_type": "code",
   "execution_count": 15,
   "id": "6d864828",
   "metadata": {
    "execution": {
     "iopub.execute_input": "2025-04-18T16:10:31.273147Z",
     "iopub.status.busy": "2025-04-18T16:10:31.272733Z",
     "iopub.status.idle": "2025-04-18T16:10:33.046256Z",
     "shell.execute_reply": "2025-04-18T16:10:33.045334Z"
    },
    "papermill": {
     "duration": 1.788869,
     "end_time": "2025-04-18T16:10:33.048968",
     "exception": false,
     "start_time": "2025-04-18T16:10:31.260099",
     "status": "completed"
    },
    "tags": []
   },
   "outputs": [
    {
     "data": {
      "text/plain": [
       "0.1441513588582852"
      ]
     },
     "execution_count": 15,
     "metadata": {},
     "output_type": "execute_result"
    }
   ],
   "source": [
    "X = df_train.copy()\n",
    "y = X.pop(\"SalePrice\")\n",
    "X = drop_uninformative(X , mi_scores)\n",
    "\n",
    "score_dataset(X , y)\n"
   ]
  },
  {
   "cell_type": "markdown",
   "id": "77867a2f",
   "metadata": {
    "papermill": {
     "duration": 0.010873,
     "end_time": "2025-04-18T16:10:33.071048",
     "exception": false,
     "start_time": "2025-04-18T16:10:33.060175",
     "status": "completed"
    },
    "tags": []
   },
   "source": [
    "> **Later, we'll add the drop_uninformative function to our feature-creation pipeline.**"
   ]
  },
  {
   "cell_type": "markdown",
   "id": "82893067",
   "metadata": {
    "papermill": {
     "duration": 0.010954,
     "end_time": "2025-04-18T16:10:33.093119",
     "exception": false,
     "start_time": "2025-04-18T16:10:33.082165",
     "status": "completed"
    },
    "tags": []
   },
   "source": [
    "\n",
    "# Step 3 - Create Features #\n",
    "\n",
    "Now we'll start developing our feature set.\n",
    "\n",
    "To make our feature engineering workflow more modular, we'll define a function that will take a prepared dataframe and pass it through a pipeline of transformations to get the final feature set. It will look something like this:\n",
    "\n",
    "```\n",
    "def create_features(df):\n",
    "    X = df.copy()\n",
    "    y = X.pop(\"SalePrice\")\n",
    "    X = X.join(create_features_1(X))\n",
    "    X = X.join(create_features_2(X))\n",
    "    X = X.join(create_features_3(X))\n",
    "    # ...\n",
    "    return X\n",
    "```\n",
    "\n",
    "Let's go ahead and define one transformation now, a [label encoding](https://www.kaggle.com/alexisbcook/categorical-variables) for the categorical features:"
   ]
  },
  {
   "cell_type": "code",
   "execution_count": 16,
   "id": "d578ce28",
   "metadata": {
    "execution": {
     "iopub.execute_input": "2025-04-18T16:10:33.118296Z",
     "iopub.status.busy": "2025-04-18T16:10:33.117393Z",
     "iopub.status.idle": "2025-04-18T16:10:33.123155Z",
     "shell.execute_reply": "2025-04-18T16:10:33.122038Z"
    },
    "papermill": {
     "duration": 0.020919,
     "end_time": "2025-04-18T16:10:33.125406",
     "exception": false,
     "start_time": "2025-04-18T16:10:33.104487",
     "status": "completed"
    },
    "tags": []
   },
   "outputs": [],
   "source": [
    "def label_encode(df):\n",
    "    X = df.copy()\n",
    "    for colname in X.select_dtypes([\"category\"]):\n",
    "        X[colname] = X[colname].cat.codes\n",
    "    return X"
   ]
  },
  {
   "cell_type": "markdown",
   "id": "9c7101ac",
   "metadata": {
    "papermill": {
     "duration": 0.010891,
     "end_time": "2025-04-18T16:10:33.147677",
     "exception": false,
     "start_time": "2025-04-18T16:10:33.136786",
     "status": "completed"
    },
    "tags": []
   },
   "source": [
    "A label encoding is okay for any kind of categorical feature when you're using a tree-ensemble like XGBoost, even for unordered categories. If you wanted to try a linear regression model (also popular in this competition), you would instead want to use a one-hot encoding, especially for the features with unordered categories."
   ]
  },
  {
   "cell_type": "markdown",
   "id": "a9ff413b",
   "metadata": {
    "papermill": {
     "duration": 0.010952,
     "end_time": "2025-04-18T16:10:33.169972",
     "exception": false,
     "start_time": "2025-04-18T16:10:33.159020",
     "status": "completed"
    },
    "tags": []
   },
   "source": [
    "## Create Features with Pandas ##\n",
    "\n",
    "This cell reproduces the work Feature Engineering Course Exercise 3, where we applied strategies for creating features in Pandas. Modify or add to these functions to try out other feature combinations."
   ]
  },
  {
   "cell_type": "code",
   "execution_count": 17,
   "id": "1fd6e594",
   "metadata": {
    "execution": {
     "iopub.execute_input": "2025-04-18T16:10:33.194002Z",
     "iopub.status.busy": "2025-04-18T16:10:33.193595Z",
     "iopub.status.idle": "2025-04-18T16:10:33.202788Z",
     "shell.execute_reply": "2025-04-18T16:10:33.201518Z"
    },
    "papermill": {
     "duration": 0.024307,
     "end_time": "2025-04-18T16:10:33.205359",
     "exception": false,
     "start_time": "2025-04-18T16:10:33.181052",
     "status": "completed"
    },
    "tags": []
   },
   "outputs": [],
   "source": [
    "def mathematical_transforms(df):\n",
    "    X = pd.DataFrame() # dataframe to hold new features\n",
    "    X[\"LivLotRatio\"] = df.GrLivArea / df.LotArea\n",
    "    X[\"Spaciousness\"] = (df.FirstFlrSF + df.SecondFlrSF) / df.TotRmsAbvGrd\n",
    "    # This feature ended up not helping performance\n",
    "    # X[\"TotalOutsideSF\"] = \\\n",
    "    #     df.WoodDeckSF + df.OpenPorchSF + df.EnclosedPorch + \\\n",
    "    #     df.Threeseasonporch + df.ScreenPorch\n",
    "    return X\n",
    "def interactions(df):\n",
    "    X = pd.get_dummies(df.BldgType , prefix=\"Bldg\")\n",
    "    X = X.mul(df.GrLivArea , axis=0)\n",
    "    return X\n",
    "\n",
    "\n",
    "def counts(df):\n",
    "    X = pd.DataFrame()\n",
    "    X[\"PorchTypes\"] = df[[\n",
    "        \"WoodDeckSF\",\n",
    "        \"OpenPorchSF\",\n",
    "        \"EnclosedPorch\",\n",
    "        \"Threeseasonporch\",\n",
    "        \"ScreenPorch\",\n",
    "    ]].gt(0.0).sum(axis=1)\n",
    "    return X\n",
    "\n",
    "def break_down(df):\n",
    "    X = pd.DataFrame()\n",
    "    X[\"MSClass\"] = df.MSSubClass.str.split(\"_\", n=1 , expand=True)[0]\n",
    "    return X\n",
    "\n",
    "def group_transforms(df):\n",
    "    X = pd.DataFrame()\n",
    "    X[\"MedNhbdArea\"] = df.groupby(\"Neighborhood\")[\"GrLivArea\"].transform(\"median\")\n",
    "    return X"
   ]
  },
  {
   "cell_type": "markdown",
   "id": "e93a6788",
   "metadata": {
    "papermill": {
     "duration": 0.011241,
     "end_time": "2025-04-18T16:10:33.229038",
     "exception": false,
     "start_time": "2025-04-18T16:10:33.217797",
     "status": "completed"
    },
    "tags": []
   },
   "source": [
    "Here are some ideas for other transforms you could explore:\n",
    "- Interactions between the quality `Qual` and condition `Cond` features. `OverallQual`, for instance, was a high-scoring feature. You could try combining it with `OverallCond` by converting both to integer type and taking a product.\n",
    "- Square roots of area features. This would convert units of square feet to just feet.\n",
    "- Logarithms of numeric features. If a feature has a skewed distribution, applying a logarithm can help normalize it.\n",
    "- Interactions between numeric and categorical features that describe the same thing. You could look at interactions between `BsmtQual` and `TotalBsmtSF`, for instance.\n",
    "- Other group statistics in `Neighboorhood`. We did the median of `GrLivArea`. Looking at `mean`, `std`, or `count` could be interesting. You could also try combining the group statistics with other features. Maybe the *difference* of `GrLivArea` and the median is important?\n"
   ]
  },
  {
   "cell_type": "markdown",
   "id": "ac39d6d5",
   "metadata": {
    "papermill": {
     "duration": 0.011796,
     "end_time": "2025-04-18T16:10:33.252940",
     "exception": false,
     "start_time": "2025-04-18T16:10:33.241144",
     "status": "completed"
    },
    "tags": []
   },
   "source": [
    "## k-Means Clustering ##\n",
    "\n",
    "The first unsupervised algorithm we used to create features was k-means clustering. We saw that you could either use the cluster labels as a feature (a column with `0, 1, 2, ...`) or you could use the *distance* of the observations to each cluster. We saw how these features can sometimes be effective at untangling complicated spatial relationships."
   ]
  },
  {
   "cell_type": "code",
   "execution_count": 18,
   "id": "e6ce7bbf",
   "metadata": {
    "execution": {
     "iopub.execute_input": "2025-04-18T16:10:33.278585Z",
     "iopub.status.busy": "2025-04-18T16:10:33.278197Z",
     "iopub.status.idle": "2025-04-18T16:10:33.287564Z",
     "shell.execute_reply": "2025-04-18T16:10:33.286100Z"
    },
    "papermill": {
     "duration": 0.025098,
     "end_time": "2025-04-18T16:10:33.289953",
     "exception": false,
     "start_time": "2025-04-18T16:10:33.264855",
     "status": "completed"
    },
    "tags": []
   },
   "outputs": [],
   "source": [
    "cluster_features = [\n",
    "    \"LotArea\",\n",
    "    \"TotalBsmtSF\",\n",
    "    \"FirstFlrSF\",\n",
    "    \"SecondFlrSF\",\n",
    "    \"GrLivArea\",\n",
    "]\n",
    "\n",
    "def cluster_labels(df , features , n_clusters=20):\n",
    "    X = df.copy()\n",
    "    X_scaled = X.loc[: , features]\n",
    "    X_scaled = (X_scaled - X_scaled.mean(axis=0)) / X_scaled.std(axis=0)\n",
    "    kmeans = KMeans(n_clusters=n_clusters , n_init=50 , random_state=0)\n",
    "    X_new = pd.DataFrame()\n",
    "    X_new[\"Cluster\"] = kmeans.fit_predict(X_scaled)\n",
    "    return X_new\n",
    "\n",
    "def cluster_distance(df , features , n_clusters=20):\n",
    "    X= df.copy()\n",
    "    X_scaled = X.loc[: , features]\n",
    "    X_scaled = (X_scaled - X_scaled.mean(axis=0)) / X_scaled.std(axis=0)\n",
    "    kmeans = KMeans(n_clusters=20 , n_init=50 , random_state=0)\n",
    "    X_cd = kmeans.fit_transform(X_scaled)\n",
    "    # Label features and join to dataset\n",
    "    X_cd = pd.DataFrame(\n",
    "        X_cd , columns =[f\"Centroid_{i}\" for i in range(X_cd.shape[1])]\n",
    "    )\n",
    "    return X_cd\n",
    "    "
   ]
  },
  {
   "cell_type": "markdown",
   "id": "e6d238b5",
   "metadata": {
    "papermill": {
     "duration": 0.011842,
     "end_time": "2025-04-18T16:10:33.313290",
     "exception": false,
     "start_time": "2025-04-18T16:10:33.301448",
     "status": "completed"
    },
    "tags": []
   },
   "source": [
    "## Principal Component Analysis ##\n",
    "\n",
    "PCA was the second unsupervised model we used for feature creation. We saw how it could be used to decompose the variational structure in the data. The PCA algorithm gave us *loadings* which described each component of variation, and also the *components* which were the transformed datapoints. The loadings can suggest features to create and the components we can use as features directly.\n",
    "\n",
    "Here are the utility functions from the PCA lesson:"
   ]
  },
  {
   "cell_type": "code",
   "execution_count": 19,
   "id": "b52a4708",
   "metadata": {
    "execution": {
     "iopub.execute_input": "2025-04-18T16:10:33.337639Z",
     "iopub.status.busy": "2025-04-18T16:10:33.337256Z",
     "iopub.status.idle": "2025-04-18T16:10:33.346893Z",
     "shell.execute_reply": "2025-04-18T16:10:33.345904Z"
    },
    "papermill": {
     "duration": 0.024361,
     "end_time": "2025-04-18T16:10:33.349143",
     "exception": false,
     "start_time": "2025-04-18T16:10:33.324782",
     "status": "completed"
    },
    "tags": []
   },
   "outputs": [],
   "source": [
    "def apply_pca(X , standardize=True):\n",
    "    # Standardize\n",
    "    if standardize:\n",
    "        X = (X - X.mean(axis=0)) / X.std(axis=0)\n",
    "    # Create Principal components\n",
    "    pca = PCA()\n",
    "    X_pca = pca.fit_transform(X)\n",
    "    # Convert to dataframe\n",
    "    component_names = [f\"PC{i+1}\" for i in range(X_pca.shape[1])]\n",
    "    # Createw loadings\n",
    "    loadings = pd.DataFrame(\n",
    "        pca.components_.T , # transpose the matrix of loadings\n",
    "        columns =component_names , # So the columns are the principal components\n",
    "        index = X.columns, # and the rows are the original features\n",
    "    )\n",
    "    return pca, X_pca , loadings\n",
    "\n",
    "def plot_variance(pca , width=8 , dpi=100):\n",
    "    #Create figure\n",
    "    fig, axs = plt.subplots(1, 2)\n",
    "    n = pca.n_components_\n",
    "    grid = np.arange(1 , n + 1)\n",
    "    # Explained Variance\n",
    "    evr = pca.explained_variance_ratio_\n",
    "    axs[0].bar(grid , evr)\n",
    "    axis[0].set(\n",
    "        xlabel=\"Components\" , title=\"% Explained Variance\", ylim=(0.0 , 1.0)\n",
    "    )\n",
    "    # Cumulative Variance\n",
    "    cv = np.cumsum(evr)\n",
    "    axs[1].plot(np.r_[0 , grid], np.r_[0, cv], \"o-\")\n",
    "    axs[1].set(\n",
    "        xLabel=\"Component\" , title=\"% Cumulative Variance\", ylim=(0.0 , 1.0)\n",
    "    )\n",
    "    # Set up figure\n",
    "    fig.set(figwidth=8 , dpi =100)\n",
    "    return axs\n",
    "    "
   ]
  },
  {
   "cell_type": "markdown",
   "id": "58e5e298",
   "metadata": {
    "papermill": {
     "duration": 0.010964,
     "end_time": "2025-04-18T16:10:33.371625",
     "exception": false,
     "start_time": "2025-04-18T16:10:33.360661",
     "status": "completed"
    },
    "tags": []
   },
   "source": [
    "And here are transforms that produce the features from Feature Engineering Course the Exercise 5. You might want to change these if you came up with a different answer."
   ]
  },
  {
   "cell_type": "code",
   "execution_count": 20,
   "id": "bba797ca",
   "metadata": {
    "execution": {
     "iopub.execute_input": "2025-04-18T16:10:33.398072Z",
     "iopub.status.busy": "2025-04-18T16:10:33.397665Z",
     "iopub.status.idle": "2025-04-18T16:10:33.404030Z",
     "shell.execute_reply": "2025-04-18T16:10:33.403047Z"
    },
    "papermill": {
     "duration": 0.022211,
     "end_time": "2025-04-18T16:10:33.406518",
     "exception": false,
     "start_time": "2025-04-18T16:10:33.384307",
     "status": "completed"
    },
    "tags": []
   },
   "outputs": [],
   "source": [
    "def pca_inspired(df):\n",
    "    X = pd.DataFrame()\n",
    "    X[\"Feature1\"] = df.GrLivArea + df.TotalBsmtSF\n",
    "    X[\"Feature2\"] = df.YearRemodAdd * df.TotalBsmtSF\n",
    "    return X\n",
    "\n",
    "def pca_components(df , features):\n",
    "    X = df.loc[: , features]\n",
    "    _ , X_pca , _ = apply_pca(X)\n",
    "    return X_pca\n",
    "\n",
    "pca_features = [\n",
    "    \"GarageArea\",\n",
    "    \"YearRemodAdd\",\n",
    "    \"TotalBsmtSF\",\n",
    "    \"GrLivArea\",\n",
    "]"
   ]
  },
  {
   "cell_type": "markdown",
   "id": "4636d4b0",
   "metadata": {
    "papermill": {
     "duration": 0.011663,
     "end_time": "2025-04-18T16:10:33.430017",
     "exception": false,
     "start_time": "2025-04-18T16:10:33.418354",
     "status": "completed"
    },
    "tags": []
   },
   "source": [
    "These are only a couple ways you could use the principal components. You could also try clustering using one or more components. One thing to note is that PCA doesn't change the distance between points -- it's just like a rotation. So clustering with the full set of components is the same as clustering with the original features. Instead, pick some subset of components, maybe those with the most variance or the highest MI scores.\n",
    "\n",
    "For further analysis, you might want to look at a correlation matrix for the dataset:"
   ]
  },
  {
   "cell_type": "code",
   "execution_count": 21,
   "id": "8bf70ce4",
   "metadata": {
    "execution": {
     "iopub.execute_input": "2025-04-18T16:10:33.455468Z",
     "iopub.status.busy": "2025-04-18T16:10:33.455101Z",
     "iopub.status.idle": "2025-04-18T16:10:33.461006Z",
     "shell.execute_reply": "2025-04-18T16:10:33.459782Z"
    },
    "papermill": {
     "duration": 0.021385,
     "end_time": "2025-04-18T16:10:33.463179",
     "exception": false,
     "start_time": "2025-04-18T16:10:33.441794",
     "status": "completed"
    },
    "tags": []
   },
   "outputs": [],
   "source": [
    "def corrplot(df , method=\"pearson\" , annot=True , **kwargs):\n",
    "    sns.clustermap(\n",
    "        df.corr(method, numeric_only = True),\n",
    "        vmin=-1.0,\n",
    "        vmax=1.0,\n",
    "        cmap=\"icefire\",\n",
    "        method=\"complete\",\n",
    "        annot=annot,\n",
    "        **kwargs,\n",
    "    )\n",
    "    \n",
    "    corrplot(df_train , annot=None)"
   ]
  },
  {
   "cell_type": "markdown",
   "id": "efd0f046",
   "metadata": {
    "papermill": {
     "duration": 0.011391,
     "end_time": "2025-04-18T16:10:33.485921",
     "exception": false,
     "start_time": "2025-04-18T16:10:33.474530",
     "status": "completed"
    },
    "tags": []
   },
   "source": [
    "Groups of highly correlated features often yield interesting loadings."
   ]
  },
  {
   "cell_type": "markdown",
   "id": "c7e4c8b7",
   "metadata": {
    "papermill": {
     "duration": 0.011793,
     "end_time": "2025-04-18T16:10:33.509089",
     "exception": false,
     "start_time": "2025-04-18T16:10:33.497296",
     "status": "completed"
    },
    "tags": []
   },
   "source": [
    "### PCA Application - Indicate Outliers ###\n",
    "\n",
    "In Feature Engineering Course Exercise 5 (PCA), you applied PCA to determine houses that were **outliers**, that is, houses having values not well represented in the rest of the data. You saw that there was a group of houses in the `Edwards` neighborhood having a `SaleCondition` of `Partial` whose values were especially extreme.\n",
    "\n",
    "Some models can benefit from having these outliers indicated, which is what this next transform will do."
   ]
  },
  {
   "cell_type": "code",
   "execution_count": 22,
   "id": "b4285641",
   "metadata": {
    "execution": {
     "iopub.execute_input": "2025-04-18T16:10:33.533847Z",
     "iopub.status.busy": "2025-04-18T16:10:33.533429Z",
     "iopub.status.idle": "2025-04-18T16:10:33.538870Z",
     "shell.execute_reply": "2025-04-18T16:10:33.537700Z"
    },
    "papermill": {
     "duration": 0.020435,
     "end_time": "2025-04-18T16:10:33.540971",
     "exception": false,
     "start_time": "2025-04-18T16:10:33.520536",
     "status": "completed"
    },
    "tags": []
   },
   "outputs": [],
   "source": [
    "def indicate_outliers(df):\n",
    "    X_new = pd.DataFrame()\n",
    "    X_new[\"Outlier\"] = (df.Nieghborhood == \"Edwards\") & (df.SaleCondition == \"Partial\")\n",
    "    return X_new"
   ]
  },
  {
   "cell_type": "markdown",
   "id": "d4ae5dc1",
   "metadata": {
    "papermill": {
     "duration": 0.01128,
     "end_time": "2025-04-18T16:10:33.564446",
     "exception": false,
     "start_time": "2025-04-18T16:10:33.553166",
     "status": "completed"
    },
    "tags": []
   },
   "source": [
    "You could also consider applying some sort of robust scaler from scikit-learn's `sklearn.preprocessing` module to the outlying values, especially those in `GrLivArea`. [Here](https://scikit-learn.org/stable/auto_examples/preprocessing/plot_all_scaling.html) is a tutorial illustrating some of them. Another option could be to create a feature of \"outlier scores\" using one of scikit-learn's [outlier detectors](https://scikit-learn.org/stable/modules/outlier_detection.html)."
   ]
  },
  {
   "cell_type": "markdown",
   "id": "98093743",
   "metadata": {
    "papermill": {
     "duration": 0.010954,
     "end_time": "2025-04-18T16:10:33.586871",
     "exception": false,
     "start_time": "2025-04-18T16:10:33.575917",
     "status": "completed"
    },
    "tags": []
   },
   "source": [
    "## Target Encoding ##\n",
    "\n",
    "Needing a separate holdout set to create a target encoding is rather wasteful of data. In *Tutorial 6* we used 25% of our dataset just to encode a single feature, `Zipcode`. The data from the other features in that 25% we didn't get to use at all.\n",
    "\n",
    "There is, however, a way you can use target encoding without having to use held-out encoding data. It's basically the same trick used in cross-validation:\n",
    "1. Split the data into folds, each fold having two splits of the dataset.\n",
    "2. Train the encoder on one split but transform the values of the other.\n",
    "3. Repeat for all the splits.\n",
    "\n",
    "This way, training and transformation always take place on independent sets of data, just like when you use a holdout set but without any data going to waste.\n",
    "\n",
    "In the next hidden cell is a wrapper you can use with any target encoder:"
   ]
  },
  {
   "cell_type": "code",
   "execution_count": 23,
   "id": "256c1c0e",
   "metadata": {
    "execution": {
     "iopub.execute_input": "2025-04-18T16:10:33.612339Z",
     "iopub.status.busy": "2025-04-18T16:10:33.611968Z",
     "iopub.status.idle": "2025-04-18T16:10:33.622115Z",
     "shell.execute_reply": "2025-04-18T16:10:33.620705Z"
    },
    "papermill": {
     "duration": 0.025158,
     "end_time": "2025-04-18T16:10:33.624323",
     "exception": false,
     "start_time": "2025-04-18T16:10:33.599165",
     "status": "completed"
    },
    "tags": []
   },
   "outputs": [],
   "source": [
    "class CrossFoldEncoder:\n",
    "    def __init__(self, encoder, **kwargs):\n",
    "        self.encoder_ = encoder\n",
    "        self.kwargs_ = kwargs  # keyword arguments for the encoder\n",
    "        self.cv_ = KFold(n_splits=5)\n",
    "\n",
    "    # Fit an encoder on one split and transform the feature on the\n",
    "    # other. Iterating over the splits in all folds gives a complete\n",
    "    # transformation. We also now have one trained encoder on each fold.\n",
    "    def fit_transform(self, X, y, cols):\n",
    "        self.fitted_encoders_ = []\n",
    "        self.cols_ = cols\n",
    "        X_encoded = []\n",
    "        for idx_encode, idx_train in self.cv_.split(X):\n",
    "            fitted_encoder = self.encoder_(cols=cols, **self.kwargs_)\n",
    "            fitted_encoder.fit(\n",
    "                X.iloc[idx_encode, :], y.iloc[idx_encode],\n",
    "            )\n",
    "            X_encoded.append(fitted_encoder.transform(X.iloc[idx_train, :])[cols])\n",
    "            self.fitted_encoders_.append(fitted_encoder)\n",
    "        X_encoded = pd.concat(X_encoded)\n",
    "        X_encoded.columns = [name + \"_encoded\" for name in X_encoded.columns]\n",
    "        return X_encoded\n",
    "\n",
    "    # To transform the test data, average the encodings learned from each fold.\n",
    "    \n",
    "    def transform(self, X):\n",
    "        from functools import reduce\n",
    "\n",
    "        X_encoded_list = []\n",
    "        for fitted_encoder in self.fitted_encoders_:\n",
    "            X_encoded = fitted_encoder.transform(X)\n",
    "            X_encoded_list.append(X_encoded[self.cols_])\n",
    "        X_encoded = reduce(\n",
    "            lambda x, y: x.add(y, fill_value=0), X_encoded_list\n",
    "        ) / len(X_encoded_list)\n",
    "        X_encoded.columns = [name + \"_encoded\" for name in X_encoded.columns]\n",
    "        return X_encoded"
   ]
  },
  {
   "cell_type": "markdown",
   "id": "3c7b5902",
   "metadata": {
    "papermill": {
     "duration": 0.013396,
     "end_time": "2025-04-18T16:10:33.649265",
     "exception": false,
     "start_time": "2025-04-18T16:10:33.635869",
     "status": "completed"
    },
    "tags": []
   },
   "source": [
    "Use it like:\n",
    "\n",
    "```\n",
    "encoder = CrossFoldEncoder(MEstimateEncoder, m=1)\n",
    "X_encoded = encoder.fit_transform(X, y, cols=[\"MSSubClass\"]))\n",
    "```\n",
    "\n",
    "You can turn any of the encoders from the [`category_encoders`](http://contrib.scikit-learn.org/category_encoders/) library into a cross-fold encoder. The [`CatBoostEncoder`](http://contrib.scikit-learn.org/category_encoders/catboost.html) would be worth trying. It's similar to `MEstimateEncoder` but uses some tricks to better prevent overfitting. Its smoothing parameter is called `a` instead of `m`."
   ]
  },
  {
   "cell_type": "markdown",
   "id": "15d22f06",
   "metadata": {
    "papermill": {
     "duration": 0.011013,
     "end_time": "2025-04-18T16:10:33.671772",
     "exception": false,
     "start_time": "2025-04-18T16:10:33.660759",
     "status": "completed"
    },
    "tags": []
   },
   "source": [
    "## Create Final Feature Set ##\n",
    "\n",
    "Now let's combine everything together. Putting the transformations into separate functions makes it easier to experiment with various combinations. The ones I left uncommented I found gave the best results. You should experiment with you own ideas though! Modify any of these transformations or come up with some of your own to add to the pipeline."
   ]
  },
  {
   "cell_type": "code",
   "execution_count": 24,
   "id": "61e9b7cd",
   "metadata": {
    "execution": {
     "iopub.execute_input": "2025-04-18T16:10:33.697527Z",
     "iopub.status.busy": "2025-04-18T16:10:33.697163Z",
     "iopub.status.idle": "2025-04-18T16:10:38.172022Z",
     "shell.execute_reply": "2025-04-18T16:10:38.171162Z"
    },
    "papermill": {
     "duration": 4.490404,
     "end_time": "2025-04-18T16:10:38.174250",
     "exception": false,
     "start_time": "2025-04-18T16:10:33.683846",
     "status": "completed"
    },
    "tags": []
   },
   "outputs": [
    {
     "data": {
      "text/plain": [
       "0.13694237566469133"
      ]
     },
     "execution_count": 24,
     "metadata": {},
     "output_type": "execute_result"
    }
   ],
   "source": [
    "def create_features(df, df_test=None):\n",
    "    X = df.copy()\n",
    "    y = X.pop(\"SalePrice\")\n",
    "    mi_scores = make_mi_scores(X, y)\n",
    "\n",
    "    # Combine splits if test data is given\n",
    "    #\n",
    "    # If we're creating features for test set predictions, we should\n",
    "    # use all the data we have available. After creating our features,\n",
    "    # we'll recreate the splits.\n",
    "    if df_test is not None:\n",
    "        X_test = df_test.copy()\n",
    "        X_test.pop(\"SalePrice\")\n",
    "        X = pd.concat([X, X_test])\n",
    "\n",
    "    # Lesson 2 - Mutual Information\n",
    "    X = drop_uninformative(X, mi_scores)\n",
    "\n",
    "    # Lesson 3 - Transformations\n",
    "    X = X.join(mathematical_transforms(X))\n",
    "    X = X.join(interactions(X))\n",
    "    X = X.join(counts(X))\n",
    "    # X = X.join(break_down(X))\n",
    "    X = X.join(group_transforms(X))\n",
    "\n",
    "    # Lesson 4 - Clustering\n",
    "    # X = X.join(cluster_labels(X, cluster_features, n_clusters=20))\n",
    "    # X = X.join(cluster_distance(X, cluster_features, n_clusters=20))\n",
    "\n",
    "    # Lesson 5 - PCA\n",
    "    X = X.join(pca_inspired(X))\n",
    "    # X = X.join(pca_components(X, pca_features))\n",
    "    # X = X.join(indicate_outliers(X))\n",
    "\n",
    "    X = label_encode(X)\n",
    "\n",
    "    # Reform splits\n",
    "    if df_test is not None:\n",
    "        X_test = X.loc[df_test.index, :]\n",
    "        X.drop(df_test.index, inplace=True)\n",
    "\n",
    "    # Lesson 6 - Target Encoder\n",
    "    encoder = CrossFoldEncoder(MEstimateEncoder, m=1)\n",
    "    X = X.join(encoder.fit_transform(X, y, cols=[\"MSSubClass\"]))\n",
    "    if df_test is not None:\n",
    "        X_test = X_test.join(encoder.transform(X_test))\n",
    "\n",
    "    if df_test is not None:\n",
    "        return X, X_test\n",
    "    else:\n",
    "        return X\n",
    "\n",
    "\n",
    "df_train, df_test = load_data()\n",
    "X_train = create_features(df_train)\n",
    "y_train = df_train.loc[:, \"SalePrice\"]\n",
    "\n",
    "score_dataset(X_train, y_train)"
   ]
  },
  {
   "cell_type": "markdown",
   "id": "f1dd9819",
   "metadata": {
    "papermill": {
     "duration": 0.011986,
     "end_time": "2025-04-18T16:10:38.198103",
     "exception": false,
     "start_time": "2025-04-18T16:10:38.186117",
     "status": "completed"
    },
    "tags": []
   },
   "source": [
    "# Step 4 - Hyperparameter Tuning #\n",
    "\n",
    "At this stage, we might like to do some hyperparameter tuning with XGBoost before creating your final submission."
   ]
  },
  {
   "cell_type": "code",
   "execution_count": 25,
   "id": "2b5256c0",
   "metadata": {
    "execution": {
     "iopub.execute_input": "2025-04-18T16:10:38.223642Z",
     "iopub.status.busy": "2025-04-18T16:10:38.223287Z",
     "iopub.status.idle": "2025-04-18T16:10:56.451527Z",
     "shell.execute_reply": "2025-04-18T16:10:56.450179Z"
    },
    "papermill": {
     "duration": 18.243898,
     "end_time": "2025-04-18T16:10:56.454505",
     "exception": false,
     "start_time": "2025-04-18T16:10:38.210607",
     "status": "completed"
    },
    "tags": []
   },
   "outputs": [
    {
     "data": {
      "text/plain": [
       "0.12491217413174481"
      ]
     },
     "execution_count": 25,
     "metadata": {},
     "output_type": "execute_result"
    }
   ],
   "source": [
    "X_train = create_features(df_train)\n",
    "y_train = df_train.loc[:, \"SalePrice\"]\n",
    "\n",
    "xgb_params = dict(\n",
    "    max_depth=6,           # maximum depth of each tree - try 2 to 10\n",
    "    learning_rate=0.01,    # effect of each tree - try 0.0001 to 0.1\n",
    "    n_estimators=1000,     # number of trees (that is, boosting rounds) - try 1000 to 8000\n",
    "    min_child_weight=1,    # minimum number of houses in a leaf - try 1 to 10\n",
    "    colsample_bytree=0.7,  # fraction of features (columns) per tree - try 0.2 to 1.0\n",
    "    subsample=0.7,         # fraction of instances (rows) per tree - try 0.2 to 1.0\n",
    "    reg_alpha=0.5,         # L1 regularization (like LASSO) - try 0.0 to 10.0\n",
    "    reg_lambda=1.0,        # L2 regularization (like Ridge) - try 0.0 to 10.0\n",
    "    num_parallel_tree=1,   # set > 1 for boosted random forests\n",
    ")\n",
    "\n",
    "xgb = XGBRegressor(**xgb_params)\n",
    "score_dataset(X_train, y_train, xgb)"
   ]
  },
  {
   "cell_type": "markdown",
   "id": "eb928b67",
   "metadata": {
    "papermill": {
     "duration": 0.012613,
     "end_time": "2025-04-18T16:10:56.480062",
     "exception": false,
     "start_time": "2025-04-18T16:10:56.467449",
     "status": "completed"
    },
    "tags": []
   },
   "source": [
    "Just tuning these by hand can give wee great results. However, we might like to try using one of scikit-learn's automatic [hyperparameter tuners](https://scikit-learn.org/stable/modules/grid_search.html). Or you could explore more advanced tuning libraries like [Optuna](https://optuna.readthedocs.io/en/stable/index.html) or [scikit-optimize](https://scikit-optimize.github.io/stable/).\n",
    "\n",
    "Here is how we can use Optuna with XGBoost:\n",
    "\n",
    "```\n",
    "import optuna\n",
    "\n",
    "def objective(trial):\n",
    "    xgb_params = dict(\n",
    "        max_depth=trial.suggest_int(\"max_depth\", 2, 10),\n",
    "        learning_rate=trial.suggest_float(\"learning_rate\", 1e-4, 1e-1, log=True),\n",
    "        n_estimators=trial.suggest_int(\"n_estimators\", 1000, 8000),\n",
    "        min_child_weight=trial.suggest_int(\"min_child_weight\", 1, 10),\n",
    "        colsample_bytree=trial.suggest_float(\"colsample_bytree\", 0.2, 1.0),\n",
    "        subsample=trial.suggest_float(\"subsample\", 0.2, 1.0),\n",
    "        reg_alpha=trial.suggest_float(\"reg_alpha\", 1e-4, 1e2, log=True),\n",
    "        reg_lambda=trial.suggest_float(\"reg_lambda\", 1e-4, 1e2, log=True),\n",
    "    )\n",
    "    xgb = XGBRegressor(**xgb_params)\n",
    "    return score_dataset(X_train, y_train, xgb)\n",
    "\n",
    "study = optuna.create_study(direction=\"minimize\")\n",
    "study.optimize(objective, n_trials=20)\n",
    "xgb_params = study.best_params\n",
    "```\n",
    "\n",
    "Copy this into a code cell if we'd like to use it, but be aware that it will take quite a while to run. After it's done, we might enjoy using some of [Optuna's visualizations](https://optuna.readthedocs.io/en/stable/tutorial/10_key_features/005_visualization.html).\n",
    "\n",
    "# Step 5 - Train Model and Create Submissions #\n",
    "\n",
    "Once we're satisfied with everything, it's time to create our final predictions! This cell will:\n",
    "- create your feature set from the original data\n",
    "- train XGBoost on the training data\n",
    "- use the trained model to make predictions from the test set\n",
    "- save the predictions to a CSV file"
   ]
  },
  {
   "cell_type": "code",
   "execution_count": 26,
   "id": "bbf47007",
   "metadata": {
    "execution": {
     "iopub.execute_input": "2025-04-18T16:10:56.507321Z",
     "iopub.status.busy": "2025-04-18T16:10:56.506946Z",
     "iopub.status.idle": "2025-04-18T16:11:01.844983Z",
     "shell.execute_reply": "2025-04-18T16:11:01.843710Z"
    },
    "papermill": {
     "duration": 5.354146,
     "end_time": "2025-04-18T16:11:01.847566",
     "exception": false,
     "start_time": "2025-04-18T16:10:56.493420",
     "status": "completed"
    },
    "tags": []
   },
   "outputs": [
    {
     "name": "stdout",
     "output_type": "stream",
     "text": [
      "The Submission was successfully save :)\n"
     ]
    }
   ],
   "source": [
    "X_train , X_test = create_features(df_train , df_test)\n",
    "y_train = df_train.loc[: , \"SalePrice\"]\n",
    "\n",
    "xgb = XGBRegressor(**xgb_params)\n",
    "# XGB minimizes MSE, but competition loss is RMSLE\n",
    "# So, we need to log-transform y to train and exp-transform the predictions\n",
    "xgb.fit(X_train , np.log(y))\n",
    "predictions = np.exp(xgb.predict(X_test))\n",
    "\n",
    "output = pd.DataFrame({'Id': X_test.index , 'SalePrice': predictions})\n",
    "output.to_csv('my_submittion.csv', index=False)\n",
    "print(\"The Submission was successfully save :)\")"
   ]
  },
  {
   "cell_type": "markdown",
   "id": "7540dfd7",
   "metadata": {
    "papermill": {
     "duration": 0.011569,
     "end_time": "2025-04-18T16:11:01.870814",
     "exception": false,
     "start_time": "2025-04-18T16:11:01.859245",
     "status": "completed"
    },
    "tags": []
   },
   "source": [
    "To submit these predictions to the competition, follow these steps:\n",
    "\n",
    "1. Begin by clicking on the blue **Save Version** button in the top right corner of the window.  This will generate a pop-up window.\n",
    "2. Ensure that the **Save and Run All** option is selected, and then click on the blue **Save** button.\n",
    "3. This generates a window in the bottom left corner of the notebook.  After it has finished running, click on the number to the right of the **Save Version** button.  This pulls up a list of versions on the right of the screen.  Click on the ellipsis **(...)** to the right of the most recent version, and select **Open in Viewer**.  This brings you into view mode of the same page. You will need to scroll down to get back to these instructions.\n",
    "4. Click on the **Output** tab on the right of the screen.  Then, click on the file you would like to submit, and click on the blue **Submit** button to submit your results to the leaderboard.\n",
    "\n",
    "You have now successfully submitted to the competition!"
   ]
  },
  {
   "cell_type": "code",
   "execution_count": null,
   "id": "bb2a9f2e",
   "metadata": {
    "papermill": {
     "duration": 0.011984,
     "end_time": "2025-04-18T16:11:01.895297",
     "exception": false,
     "start_time": "2025-04-18T16:11:01.883313",
     "status": "completed"
    },
    "tags": []
   },
   "outputs": [],
   "source": []
  }
 ],
 "metadata": {
  "kaggle": {
   "accelerator": "none",
   "dataSources": [
    {
     "databundleVersionId": 868283,
     "sourceId": 5407,
     "sourceType": "competition"
    }
   ],
   "dockerImageVersionId": 30786,
   "isGpuEnabled": false,
   "isInternetEnabled": false,
   "language": "python",
   "sourceType": "notebook"
  },
  "kernelspec": {
   "display_name": "Python 3",
   "language": "python",
   "name": "python3"
  },
  "language_info": {
   "codemirror_mode": {
    "name": "ipython",
    "version": 3
   },
   "file_extension": ".py",
   "mimetype": "text/x-python",
   "name": "python",
   "nbconvert_exporter": "python",
   "pygments_lexer": "ipython3",
   "version": "3.10.14"
  },
  "papermill": {
   "default_parameters": {},
   "duration": 44.564164,
   "end_time": "2025-04-18T16:11:02.731563",
   "environment_variables": {},
   "exception": null,
   "input_path": "__notebook__.ipynb",
   "output_path": "__notebook__.ipynb",
   "parameters": {},
   "start_time": "2025-04-18T16:10:18.167399",
   "version": "2.6.0"
  }
 },
 "nbformat": 4,
 "nbformat_minor": 5
}
